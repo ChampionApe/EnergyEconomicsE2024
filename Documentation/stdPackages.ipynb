{
 "cells": [
  {
   "cell_type": "code",
   "execution_count": 1,
   "id": "1dce1f48-c391-47c3-a108-f483c51cd4d8",
   "metadata": {},
   "outputs": [],
   "source": [
    "import os \n",
    "c = os.getcwd()\n",
    "os.chdir(os.path.dirname(c))\n",
    "%run stdPackages.ipynb\n",
    "d['curr'] = c\n",
    "d['data'] = os.path.join(c, 'Data')"
   ]
  }
 ],
 "metadata": {
  "kernelspec": {
   "display_name": "Python 3 (ipykernel)",
   "language": "python",
   "name": "python3"
  },
  "language_info": {
   "codemirror_mode": {
    "name": "ipython",
    "version": 3
   },
   "file_extension": ".py",
   "mimetype": "text/x-python",
   "name": "python",
   "nbconvert_exporter": "python",
   "pygments_lexer": "ipython3",
   "version": "3.11.3"
  }
 },
 "nbformat": 4,
 "nbformat_minor": 5
}
