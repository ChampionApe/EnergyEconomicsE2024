{
 "cells": [
  {
   "cell_type": "markdown",
   "id": "a196289c-56f3-41ef-92db-138b66b3d5ff",
   "metadata": {
    "tags": []
   },
   "source": [
    "# How to downloade data from ENTSO-e's Transparency Platform"
   ]
  },
  {
   "cell_type": "markdown",
   "id": "face30b4-4432-4c6e-9733-715d6c796677",
   "metadata": {},
   "source": [
    "The **European Network of Transmission System Operators for Electricity** (ENTSO-e) is the organization for national Transmission System Operators (TSOs). It represents 39 European TSOs and trangresses the EU borders. \n",
    "\n",
    "ENTSO-e provide something known as the [**Transparency Platform**](https://transparency.entsoe.eu/), which is a large data bank for the European electricity system. Their API service is often very handy when working with numerical models of the electricity system. \n",
    "\n",
    "In this notebook you will learn how to download data from the Transparency Platform's Api service using a python package called **entsoe-py**. You can have a look at its [**documentation page**](https://github.com/EnergieID/entsoe-py) to see how to use the package. \n",
    "\n",
    "In order to run the code in this notebook, you will need to complete three steps beforehand:\n",
    "1. Install **entsoe-py** in you conda environment.\n",
    "2. Acquire an API key for the Transparency Platform.\n",
    "3. Save the API key as en _environment variable_ in you conda environment.\n",
    "\n",
    "We go through these three steps below in [**Part 0**](#Part-0:-Required-steps-to-run-the-code). \n",
    "\n",
    "In [**Part 1**](#Part-1:-Code-chunks-for-downloading-data), we will be downloading three variables from the Transparency Platform that are important model inputs in many electricity system models. These are\n",
    "\n",
    "- **Forecasted load**: We use the forecasted load on the day-ahead market to specify how demand exogenously varies on the hourly frequency.\n",
    "- **Forecasted intermittent supply**: We use the forecasted intermittent generation on the day-ahead market to specify how intermittent electricity generation exogenously varies on the hourly frequency.\n",
    "- **Spot prices**: We can use the spot prices in connected electricity areas to invoke a 'small open economy'-assumption. Essentially, we will assume that international prices are constant and that trade with the domestic country does not affect affect foreign prices."
   ]
  },
  {
   "cell_type": "markdown",
   "id": "df0e2636-1415-499b-bb96-9607ccebe08d",
   "metadata": {},
   "source": [
    "## Part 0: Required steps to run the code"
   ]
  },
  {
   "cell_type": "markdown",
   "id": "e74d4bff-a412-4a86-b00c-18a356c98407",
   "metadata": {},
   "source": [
    "___Step 1: Install **entsoe-py**___"
   ]
  },
  {
   "cell_type": "markdown",
   "id": "d2a0f1b0-52e8-4b4f-93f9-7e1a2a205b42",
   "metadata": {
    "tags": []
   },
   "source": [
    "This done quite easily. First, open the anaconda prompt (for Windows) or terminal (for Mac/Linux) and activate your conda environment:\n",
    "\n",
    "> `conda activate insert_your_environment_name`\n",
    "\n",
    "Next, install the package:\n",
    "\n",
    "> `python -m pip install entsoe-py`\n",
    "\n",
    "Note, my installed python version 3 is just called python. Yours might be called python3 if you are a little more tidy than me."
   ]
  },
  {
   "cell_type": "markdown",
   "id": "92fe81ae-dcc1-46eb-95e4-83cce3ecb5d5",
   "metadata": {},
   "source": [
    "___Step 2: Acquire an API key___"
   ]
  },
  {
   "cell_type": "markdown",
   "id": "15605f7d-cc6f-4d20-a3ad-874fb9743c5d",
   "metadata": {},
   "source": [
    "ENTSO-e provides a free API key for registered users of the Platform. You just need to create an account. Then follow [**these guidelines for getting an API key**](https://transparency.entsoe.eu/content/static_content/download?path=/Static%20content/API-Token-Management.pdf) under the headline \"_If I lose my Token or I don’t have any, how can I generate a new one?_\""
   ]
  },
  {
   "cell_type": "markdown",
   "id": "4119d15e-9047-438a-afb2-6f400b4ffb80",
   "metadata": {},
   "source": [
    "__Step 3: Save the API key in your environment__"
   ]
  },
  {
   "cell_type": "markdown",
   "id": "9a1889ad-1ec4-439b-aa05-9d0f9a0ea8f3",
   "metadata": {
    "tags": []
   },
   "source": [
    "Saving API key as an environment variable on your local computer implies the API key is not publicly accessible and only activate whenever you conda environment is activated. When can then us the python-internal **os**-package to acquire the API key from your local laptop. But when you share the notebook, the notebook will never share your API key.\n",
    "\n",
    "There some great guides for doing this. For Windows, you can follow [**Hide Your Secret Keys With Conda**](https://medium.com/analytics-vidhya/hide-your-secret-keys-with-conda-1d22e42b82ed). For MAC and Linux users you can follow [**How to set environment variables in a conda virtual environment**](https://guillaume-martin.github.io/saving-environment-variables-in-conda.html). Below, I show it for Windows users.\n",
    "\n",
    "Open you the anaconda prompt and activate your environment if you haven't done so:\n",
    "\n",
    "> `conda activate insert_your_environment_name` \n",
    "\n",
    "Now navigate to the folder, where you environment is located by entering\n",
    "\n",
    "> `cd %CONDA_PREFIX%`\n",
    "\n",
    "Create the two folders **activate.d** and **deactivate.d**:\n",
    "\n",
    "> `mkdir .\\etc\\conda\\activate.d` <br>\n",
    "> `mkdir .\\etc\\conda\\deactivate.d`\n",
    "\n",
    "Finally, create a batch-file in the two folders:\n",
    "\n",
    "> `type NUL > .\\etc\\conda\\activate.d\\envv-awscreds.bat`<br>\n",
    "> `type NUL > .\\etc\\conda\\deactivate.d\\envv-awscreds.bat`"
   ]
  },
  {
   "cell_type": "markdown",
   "id": "5600c812-35d9-4272-ab49-791102f9f007",
   "metadata": {
    "tags": []
   },
   "source": [
    "You should now navigate to the folder where the two batch files are stored and edit the two batch files in a text editor (e.g. notepad). The directory will be visible from the terminal. For instance, my terminal reads \n",
    "\n",
    "> <span style='background:black'> <span style='color:white'> (EEotGT23) C:\\Users\\xnh825\\Anaconda3\\envs\\EEotGT23>  </span>  </span>\n",
    "\n",
    "where __EEotGT23__ is the environment name. The directories therefore read\n",
    "\n",
    "    C:\\Users\\xnh825\\Anaconda3\\envs\\EEotGT23\\etc\\conda\\activate.d\\\n",
    "    C:\\Users\\xnh825\\Anaconda3\\envs\\EEotGT23\\etc\\conda\\deactivate.d\\\n",
    "    \n",
    "In __activate.d\\envv-awscreds.bat__ you write\n",
    "\n",
    "> `set ENTSOE_API_KEY=Insert_your_api_key`\n",
    "\n",
    "In __deactivate.d\\envv-awscreds.bat__ you write\n",
    "\n",
    "> `set ENTSOE_API_KEY=`\n",
    "\n",
    "From now on, every time you activate your environment, the environment variable __ENTSOE_API_KEY__ will be available in your local computer. \n",
    "\n",
    "We are finally ready to run the code below."
   ]
  },
  {
   "cell_type": "markdown",
   "id": "f0311c28-fe09-465b-a240-d3063dec650c",
   "metadata": {},
   "source": [
    "## Part 1: Code-chunks for downloading data"
   ]
  },
  {
   "cell_type": "markdown",
   "id": "47a4a668-b422-4829-8a6d-959145ce1524",
   "metadata": {
    "tags": []
   },
   "source": [
    "We start by importing a few packages:"
   ]
  },
  {
   "cell_type": "code",
   "execution_count": 1,
   "id": "c4d11ff8-798d-42a6-8ba0-f6a3865072f1",
   "metadata": {
    "tags": []
   },
   "outputs": [],
   "source": [
    "import pandas as pd, numpy as np, os, pickle\n",
    "from entsoe import EntsoePandasClient, Area"
   ]
  },
  {
   "cell_type": "markdown",
   "id": "adfc8304-05b4-4277-95cb-a1e49b32f5a1",
   "metadata": {
    "tags": []
   },
   "source": [
    "Let's specify an output folder:"
   ]
  },
  {
   "cell_type": "code",
   "execution_count": 2,
   "id": "f511b2ef-7df5-42e7-bff6-39643d72b935",
   "metadata": {
    "tags": []
   },
   "outputs": [],
   "source": [
    "direc = os.getcwd()\n",
    "data_dir = os.path.join(direc,'CleanedData')"
   ]
  },
  {
   "cell_type": "markdown",
   "id": "535f04dc-57ed-41d2-9562-7594e301993d",
   "metadata": {},
   "source": [
    "Choose the year you want to collect data for (currently only one year is supported, but you can easily adopt the notebook to collect for multiple years):"
   ]
  },
  {
   "cell_type": "code",
   "execution_count": 3,
   "id": "563eee68-047f-47ec-99e0-46ac58f77cf7",
   "metadata": {
    "tags": []
   },
   "outputs": [],
   "source": [
    "year = 2022"
   ]
  },
  {
   "cell_type": "markdown",
   "id": "2fe69062-c501-41de-88cc-9ce9ffa97e99",
   "metadata": {
    "tags": []
   },
   "source": [
    "Choose the area of interest:"
   ]
  },
  {
   "cell_type": "code",
   "execution_count": 4,
   "id": "10d1e14f-8984-4f00-a2cf-6f8de723723b",
   "metadata": {
    "tags": []
   },
   "outputs": [],
   "source": [
    "g_area = ['DK_1','DK_2']"
   ]
  },
  {
   "cell_type": "markdown",
   "id": "eef3a6f1-be88-4276-b3d6-81057fd444cf",
   "metadata": {
    "tags": []
   },
   "source": [
    "Specify the international markets connected to the domestic market (you can use [**NordPool's map**](https://www.nordpoolgroup.com/en/Market-data1/#/nordic/map)):"
   ]
  },
  {
   "cell_type": "code",
   "execution_count": 5,
   "id": "ae4123ba-eb10-4c60-bfdb-5e1ff3d4a50f",
   "metadata": {
    "tags": []
   },
   "outputs": [],
   "source": [
    "export_g_areas = ['DE_LU','NL','SE_3','NO_2','SE_4'] \n",
    "import_g_areas = ['DE_LU','NL','NO_2','SE_4']\n",
    "connected_g_areas = np.unique(export_g_areas + import_g_areas)"
   ]
  },
  {
   "cell_type": "markdown",
   "id": "45a1b644-b2e6-4760-91ce-39aca4ff80a8",
   "metadata": {},
   "source": [
    "We now retrieve you locally stored API key. Importantly, the environment variable should be named __ENTSOE_API_KEY__:"
   ]
  },
  {
   "cell_type": "code",
   "execution_count": 6,
   "id": "d1d19dbc-29e5-4ed5-9685-7650a49cd01e",
   "metadata": {
    "tags": []
   },
   "outputs": [],
   "source": [
    "entsoe_api_key = os.environ.get(\"ENTSOE_API_KEY\").replace(\"'\",\"\")"
   ]
  },
  {
   "cell_type": "markdown",
   "id": "13b1faee-580c-4fd9-a685-67bf3e088a46",
   "metadata": {
    "tags": []
   },
   "source": [
    "Using the API key, we can activate the client:"
   ]
  },
  {
   "cell_type": "code",
   "execution_count": 7,
   "id": "df6e376b-ace7-44ea-b7f8-2f377adcc541",
   "metadata": {
    "tags": []
   },
   "outputs": [],
   "source": [
    "client = EntsoePandasClient(api_key=entsoe_api_key)"
   ]
  },
  {
   "cell_type": "markdown",
   "id": "a752f05b-c3b4-43d4-a152-0d6dd9849cf9",
   "metadata": {
    "tags": []
   },
   "source": [
    "Given the chosen year, create choose the first and last hour of that year:"
   ]
  },
  {
   "cell_type": "code",
   "execution_count": 13,
   "id": "cf4a0cf1-36b5-4d96-938e-f03d2e5c2ab3",
   "metadata": {
    "tags": []
   },
   "outputs": [],
   "source": [
    "start_str, end_str = str(year)+'-01-01T00',str(year)+'-12-31T23', \n",
    "start_CET = pd.Timestamp(start_str,tz='Europe/Copenhagen'); start_UTC = start_CET.tz_convert('UTC')\n",
    "end_CET = pd.Timestamp(end_str,tz='Europe/Copenhagen'); end_UTC = end_CET.tz_convert('UTC')\n",
    "h_index = pd.Index(pd.date_range(start_CET,end_CET,freq='H'),name='HourCET/CEST')"
   ]
  },
  {
   "cell_type": "markdown",
   "id": "32331430-6327-4753-99cc-e993c9a455d4",
   "metadata": {},
   "source": [
    "### 1.1 Download load"
   ]
  },
  {
   "cell_type": "markdown",
   "id": "1a2365b8-5d61-46e5-bac6-6fa164a12d39",
   "metadata": {},
   "source": [
    "Download the data using the client:"
   ]
  },
  {
   "cell_type": "code",
   "execution_count": 14,
   "id": "4bcf3c3d-36fb-4960-82bf-b66fd419da8e",
   "metadata": {
    "tags": []
   },
   "outputs": [],
   "source": [
    "df_demand = pd.concat([\n",
    "    pd.concat([client.query_load_forecast(Area[x], start=start_CET,end=end_CET, process_type='A01').rename_axis('HourCET/CEST').reindex(h_index).assign(g_E = x).set_index('g_E',append=True)['Forecasted Load'].rename('ForecastedLoad_MWh') for x in g_area],axis=0),\n",
    "    pd.concat([client.query_load(Area[x], start=start_CET,end=end_CET).rename_axis('HourCET/CEST').reindex(h_index).assign(g_E=x).set_index('g_E',append=True)['Actual Load'].rename('ActualLoad_MWh') for x in g_area],axis=0)\n",
    "],axis=1).reset_index()"
   ]
  },
  {
   "cell_type": "markdown",
   "id": "ad5f822d-3857-4c71-9b5d-6827ae64c889",
   "metadata": {
    "tags": []
   },
   "source": [
    "Add some helpfull variables:"
   ]
  },
  {
   "cell_type": "code",
   "execution_count": 16,
   "id": "84cd026b-2298-49d2-8ebe-0e6d4328775f",
   "metadata": {
    "tags": []
   },
   "outputs": [],
   "source": [
    "df_demand['HourUTC'] = df_demand['HourCET/CEST'].dt.tz_convert('UTC')\n",
    "df_demand['HourOfTheDay'] = df_demand['HourCET/CEST'].dt.hour\n",
    "df_demand['Weekday'] = df_demand['HourCET/CEST'].dt.weekday \n",
    "df_demand['Week'] = df_demand['HourCET/CEST'].dt.isocalendar().week\n",
    "df_demand['Month'] = df_demand['HourCET/CEST'].dt.month\n",
    "df_demand['h'] = 1\n",
    "df_demand['h'] = df_demand.groupby('g_E')['h'].cumsum()\n",
    "df_demand['g_E'] = df_demand['g_E'].str.replace('_','')\n",
    "new_col_order = ['g_E','HourUTC','HourCET/CEST','Month','Week','Weekday','HourOfTheDay','h','ForecastedLoad_MWh','ActualLoad_MWh']\n",
    "df_demand = df_demand[new_col_order].sort_values(new_col_order).reset_index(drop=True)"
   ]
  },
  {
   "cell_type": "markdown",
   "id": "bb814059-a8f0-421a-bdf2-420d5563d544",
   "metadata": {
    "tags": []
   },
   "source": [
    "Save the data as a pickle:"
   ]
  },
  {
   "cell_type": "code",
   "execution_count": 17,
   "id": "bc3e9921-6e41-4a1f-ad46-6d9343bdb72f",
   "metadata": {
    "tags": []
   },
   "outputs": [],
   "source": [
    "file_path = os.path.join(data_dir,'Load_'+''.join(df_demand['g_E'].unique().tolist())+'_'+str(year))\n",
    "df_demand.to_pickle(file_path)"
   ]
  },
  {
   "cell_type": "markdown",
   "id": "4d883adc-c230-408f-a654-01fee186a5de",
   "metadata": {},
   "source": [
    "### 1.2 Download intermittent generation"
   ]
  },
  {
   "cell_type": "markdown",
   "id": "d7db925a-33f0-48a1-9e7f-5cddc433bf23",
   "metadata": {
    "tags": []
   },
   "source": [
    "Download forecasts using the client:"
   ]
  },
  {
   "cell_type": "code",
   "execution_count": 18,
   "id": "6bb63ee1-fdc8-4718-a48b-8779c5a5e51a",
   "metadata": {
    "tags": []
   },
   "outputs": [],
   "source": [
    "d_cols = {'Wind Offshore':'WindOffshore','Wind Onshore':'WindOnshore','Hydro Run-of-river and poundage':'ROR'}\n",
    "forecasts = pd.concat([client.query_wind_and_solar_forecast(Area[x], start=start_CET, end=end_CET, process_type='A01').rename_axis('HourCET/CEST').reindex(h_index).reset_index().assign(g_E=x).rename(columns=d_cols) for x in g_area],axis=0).melt(id_vars=['HourCET/CEST','g_E'], var_name='hvt',value_name='Forecast_MWh')"
   ]
  },
  {
   "cell_type": "markdown",
   "id": "1aed724a-9ba0-47d2-bc63-49f687243ac0",
   "metadata": {},
   "source": [
    "Download actual generation using the client:"
   ]
  },
  {
   "cell_type": "code",
   "execution_count": 19,
   "id": "149e00d0-a7ca-4669-ae14-01b087f6cf0c",
   "metadata": {
    "tags": []
   },
   "outputs": [],
   "source": [
    "psr_types = {\n",
    "    'B11':'Hydro Run-of-river and poundage',\n",
    "    'B16':'Solar',\n",
    "    'B18':'Wind Offshore',\n",
    "    'B19':'Wind Onshore'\n",
    "}\n",
    "t_combs = [x for x in pd.MultiIndex.from_product([g_area,psr_types.keys()],names=['g_E','psr']) if x!=('DK_2','B11')]\n",
    "actual =  pd.concat([client.query_generation(Area[x[0]], start=start_CET, end=end_CET, psr_type=x[1]).rename_axis('HourCET/CEST').reindex(h_index).assign(g_E=x[0],hvt=psr_types[x[1]]).set_index(['g_E','hvt'],append=True)[psr_types[x[1]]].rename('Actual_MWh') for x in t_combs],axis=0).reset_index().replace({'hvt':d_cols})"
   ]
  },
  {
   "cell_type": "markdown",
   "id": "ea74d665-da90-4eff-a13d-ede36fac17e8",
   "metadata": {},
   "source": [
    "Merge forecasts and actual generation:"
   ]
  },
  {
   "cell_type": "code",
   "execution_count": 20,
   "id": "4c951f51-7017-4c8f-a932-e9a6e315a28d",
   "metadata": {
    "tags": []
   },
   "outputs": [],
   "source": [
    "df_supply = forecasts.merge(actual, how='outer')"
   ]
  },
  {
   "cell_type": "markdown",
   "id": "c48b536c-dd42-4f99-ad94-5a9549a9731f",
   "metadata": {
    "tags": []
   },
   "source": [
    "Add some helpfull variables:"
   ]
  },
  {
   "cell_type": "code",
   "execution_count": 21,
   "id": "47b9ab9a-943f-4615-ad44-2968a14e2a35",
   "metadata": {
    "tags": []
   },
   "outputs": [],
   "source": [
    "df_supply['HourUTC'] = df_supply['HourCET/CEST'].dt.tz_convert('UTC')\n",
    "df_supply['HourOfTheDay'] = df_supply['HourCET/CEST'].dt.hour\n",
    "df_supply['Weekday'] = df_supply['HourCET/CEST'].dt.weekday \n",
    "df_supply['Week'] = df_supply['HourCET/CEST'].dt.isocalendar().week\n",
    "df_supply['Month'] = df_supply['HourCET/CEST'].dt.month\n",
    "df_supply['h'] = 1\n",
    "df_supply['h'] = df_supply.groupby(['g_E','hvt'])['h'].cumsum()\n",
    "df_supply['g_E'] = df_supply['g_E'].str.replace('_','')\n",
    "new_col_order = ['g_E','hvt','HourUTC','HourCET/CEST','Month','Week','Weekday','HourOfTheDay','h','Forecast_MWh','Actual_MWh']\n",
    "df_supply = df_supply[new_col_order].sort_values(new_col_order).reset_index(drop=True)"
   ]
  },
  {
   "cell_type": "markdown",
   "id": "5977821b-dc93-47d9-853b-e3a2325f3b08",
   "metadata": {
    "tags": []
   },
   "source": [
    "Save the data as a pickle:"
   ]
  },
  {
   "cell_type": "code",
   "execution_count": 22,
   "id": "eccbfbb7-a641-464e-91d6-8cf9da27bc97",
   "metadata": {
    "tags": []
   },
   "outputs": [],
   "source": [
    "file_path = os.path.join(data_dir,'IntermittentSupply_'+''.join(df_supply['g_E'].unique().tolist())+'_'+str(year))\n",
    "df_supply.to_pickle(file_path)"
   ]
  },
  {
   "cell_type": "markdown",
   "id": "5bf3ebf0-b7c1-44ab-99e3-2b4459e0d0da",
   "metadata": {
    "tags": []
   },
   "source": [
    "### 1.3 Download spot market prices"
   ]
  },
  {
   "cell_type": "code",
   "execution_count": 23,
   "id": "b4bbb9a5-9fd8-44d6-9c37-5b5303cdadb0",
   "metadata": {
    "tags": []
   },
   "outputs": [],
   "source": [
    "df_prices = pd.concat([client.query_day_ahead_prices(Area[g], start=start_CET, end=end_CET).reindex(h_index).rename('SpotPrice_€/MWh').to_frame().rename_axis('HourCET/CEST').assign(g_E=g).set_index('g_E',append=True)['SpotPrice_€/MWh'] for g in list(connected_g_areas)+g_area],axis=0).reset_index()"
   ]
  },
  {
   "cell_type": "code",
   "execution_count": 24,
   "id": "80335cb8-24b9-438a-98a3-c1d8a2c868c7",
   "metadata": {},
   "outputs": [],
   "source": [
    "df_prices['HourUTC'] = df_prices['HourCET/CEST'].dt.tz_convert('UTC')\n",
    "df_prices['HourOfTheDay'] = df_prices['HourCET/CEST'].dt.hour\n",
    "df_prices['Weekday'] = df_prices['HourCET/CEST'].dt.weekday \n",
    "df_prices['Week'] = df_prices['HourCET/CEST'].dt.isocalendar().week\n",
    "df_prices['Month'] = df_prices['HourCET/CEST'].dt.month\n",
    "df_prices['h'] = 1\n",
    "df_prices['h'] = df_prices.groupby('g_E')['h'].cumsum()\n",
    "df_prices['g_E'] = df_prices['g_E'].str.replace('_','')\n",
    "new_col_order = ['g_E','HourUTC','HourCET/CEST','Month','Week','Weekday','HourOfTheDay','h','SpotPrice_€/MWh']\n",
    "df_prices = df_prices[new_col_order].sort_values(['g_E','h']).reset_index(drop=True)"
   ]
  },
  {
   "cell_type": "code",
   "execution_count": 25,
   "id": "b10e861e-91a5-46cf-8ff7-0715fddca2de",
   "metadata": {
    "tags": []
   },
   "outputs": [],
   "source": [
    "file_path = os.path.join(data_dir,'SpotPrices_'+''.join(df_prices['g_E'].unique().tolist())+'_'+str(year))\n",
    "df_prices.to_pickle(file_path)"
   ]
  },
  {
   "cell_type": "markdown",
   "id": "d548e2be-5551-41b6-8f93-cf6886ed0430",
   "metadata": {
    "tags": []
   },
   "source": [
    "### 1.4 Download transmission capacities"
   ]
  },
  {
   "cell_type": "code",
   "execution_count": null,
   "id": "ef64e873-a23f-4605-8373-328e7854d1ff",
   "metadata": {
    "tags": []
   },
   "outputs": [],
   "source": []
  },
  {
   "cell_type": "code",
   "execution_count": null,
   "id": "2777ed37-d9fc-4381-ab70-9f846bfa8d47",
   "metadata": {
    "tags": []
   },
   "outputs": [],
   "source": [
    "# start_str, end_str = str(2022)+'-01-01T00',str(2022)+'-12-31T23', \n",
    "# start_CET = pd.Timestamp(start_str,tz='Europe/Copenhagen'); start_UTC = start_CET.tz_convert('UTC')\n",
    "# end_CET = pd.Timestamp(end_str,tz='Europe/Copenhagen'); end_UTC = end_CET.tz_convert('UTC')\n",
    "# df_demand = client.query_load(Area[g_area], start=start_CET,end=end_CET).reset_index().rename(columns={'index':'HourCET/CEST','Actual Load':'Load_MWh'})"
   ]
  },
  {
   "cell_type": "code",
   "execution_count": null,
   "id": "ab1fae62-6159-48eb-9249-85748f52e317",
   "metadata": {
    "tags": []
   },
   "outputs": [],
   "source": [
    "# from scipy import signal\n",
    "# from matplotlib import pyplot as plt"
   ]
  },
  {
   "cell_type": "code",
   "execution_count": null,
   "id": "0e95dc7c-46f6-4278-b464-c8d1b57783c8",
   "metadata": {
    "tags": []
   },
   "outputs": [],
   "source": [
    "# y = df_demand['Load_MWh']\n",
    "# # y = (y-y.mean())/y.std()\n",
    "# seconds_pr_hour = 60*60\n",
    "# sampling_frequency = 1/seconds_pr_hour\n",
    "# n = len(y)\n",
    "# fstep = sampling_frequency / n\n",
    "# freq, Pxx = signal.periodogram(y, fs=sampling_frequency)\n",
    "# # Pxx = np.fft.rfft(y)\n",
    "# # freq = np.arange(len(Pxx)) * fstep\n",
    "# x_scale = pd.Series(freq/fstep)\n",
    "# plt.semilogy(np.log(x_scale[2:]),Pxx[2:]*seconds_pr_hour*2)\n",
    "# # fig, ax = plt.subplots()\n",
    "# # ax.plot(x_scale[1:],np.log(Pxx[1:]))\n",
    "# # ax.vlines(ymin=Pxx[1:].min(), ymax=Pxx[23].max(), x=np.log(24),color='black')"
   ]
  },
  {
   "cell_type": "code",
   "execution_count": null,
   "id": "c44e8a27-9d3d-4b2d-9d37-12bba727c12c",
   "metadata": {
    "tags": []
   },
   "outputs": [],
   "source": [
    "# x = df_demand.groupby('HourOfTheDay')['Load_MWh'].agg(['mean','std'])\n",
    "# x['upper'] = x['mean']+1.96*x['std']\n",
    "# x['lower'] = x['mean']-1.96*x['std']\n",
    "# x.drop(columns='std').plot()"
   ]
  },
  {
   "cell_type": "code",
   "execution_count": null,
   "id": "92ff9e8e-96fa-40b3-876c-239767641c8e",
   "metadata": {},
   "outputs": [],
   "source": []
  }
 ],
 "metadata": {
  "kernelspec": {
   "display_name": "Python 3 (ipykernel)",
   "language": "python",
   "name": "python3"
  },
  "language_info": {
   "codemirror_mode": {
    "name": "ipython",
    "version": 3
   },
   "file_extension": ".py",
   "mimetype": "text/x-python",
   "name": "python",
   "nbconvert_exporter": "python",
   "pygments_lexer": "ipython3",
   "version": "3.9.7"
  }
 },
 "nbformat": 4,
 "nbformat_minor": 5
}
