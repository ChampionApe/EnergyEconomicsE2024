{
 "cells": [
  {
   "cell_type": "markdown",
   "id": "a196289c-56f3-41ef-92db-138b66b3d5ff",
   "metadata": {
    "tags": []
   },
   "source": [
    "# How to downloade data from Energinet's Energy Data Service Platform"
   ]
  },
  {
   "cell_type": "markdown",
   "id": "face30b4-4432-4c6e-9733-715d6c796677",
   "metadata": {},
   "source": [
    "In this notebook you will learn how to download data from the Danish TSO's data platform, [**https://www.energidataservice.dk/**](https://www.energidataservice.dk/). Compared to ENTSO-e's Transparency Platform they have more statistics but they are only provided for DK. In my experience, other TSOs do not provide such a comprehensive overview of the energy system, but if you are aware of data platforms, please feel free to share them on Absalon!\n",
    "\n",
    "We will be downloading hourly transmission capacities (both importing and exporting). As with generation capacities of technologies relying on intermittent energy sources, transmissions capacities also vary at the hourly frequency. The difference between the technical transfer capacity of transmission lines (Total Transfer Capacity, TTC) and the actual available capacity (Net Transfer Capacity, NTC) can occur for multiple\n",
    "reasons. The main reasons include variability of intermittent renewables, power plant outages, outages in the transmission lines themselves, and variation in load patterns. You can have a look at ENTSO-e’s user information on Net Transfer Capacities (NTC) here: [**https://eepublicdownloads.\n",
    "entsoe.eu/clean-documents/pre2015/ntc/entsoe_NTCusersInformation.pdf**](https://eepublicdownloads.entsoe.eu/clean-documents/pre2015/ntc/entsoe_NTCusersInformation.pdf).\n",
    "\n",
    "\n",
    "Before running the code make sure you have the **requests**-package installed in you conda environment. If not, this is easily installed by typing the following in your anaconda prompt:\n",
    "\n",
    "> `$conda activate Insert_You_Environment_Name`<br>\n",
    "> `$python -m pip install requests`"
   ]
  },
  {
   "cell_type": "markdown",
   "id": "47a4a668-b422-4829-8a6d-959145ce1524",
   "metadata": {
    "tags": []
   },
   "source": [
    "We start by importing a few packages:"
   ]
  },
  {
   "cell_type": "code",
   "execution_count": 1,
   "id": "c4d11ff8-798d-42a6-8ba0-f6a3865072f1",
   "metadata": {
    "tags": []
   },
   "outputs": [],
   "source": [
    "import pandas as pd, numpy as np, os, pickle, requests"
   ]
  },
  {
   "cell_type": "markdown",
   "id": "adfc8304-05b4-4277-95cb-a1e49b32f5a1",
   "metadata": {
    "tags": []
   },
   "source": [
    "Let's specify an output folder:"
   ]
  },
  {
   "cell_type": "code",
   "execution_count": 2,
   "id": "f511b2ef-7df5-42e7-bff6-39643d72b935",
   "metadata": {
    "tags": []
   },
   "outputs": [],
   "source": [
    "direc = os.getcwd()\n",
    "data_dir = os.path.join(direc,'CleanedData')"
   ]
  },
  {
   "cell_type": "markdown",
   "id": "535f04dc-57ed-41d2-9562-7594e301993d",
   "metadata": {},
   "source": [
    "Choose the year you want to collect data for (currently only one year is supported, but you can easily adopt the notebook to collect for multiple years):"
   ]
  },
  {
   "cell_type": "code",
   "execution_count": 3,
   "id": "563eee68-047f-47ec-99e0-46ac58f77cf7",
   "metadata": {
    "tags": []
   },
   "outputs": [],
   "source": [
    "year = 2022"
   ]
  },
  {
   "cell_type": "markdown",
   "id": "a752f05b-c3b4-43d4-a152-0d6dd9849cf9",
   "metadata": {
    "tags": []
   },
   "source": [
    "Given the chosen year, create choose the first and last hour of that year:"
   ]
  },
  {
   "cell_type": "code",
   "execution_count": 4,
   "id": "cf4a0cf1-36b5-4d96-938e-f03d2e5c2ab3",
   "metadata": {
    "tags": []
   },
   "outputs": [],
   "source": [
    "start_str, end_str = str(year)+'-01-01T00',str(year)+'-12-31T23', \n",
    "start_CET = pd.Timestamp(start_str,tz='Europe/Copenhagen'); start_UTC = start_CET.tz_convert('UTC')\n",
    "end_CET = pd.Timestamp(end_str,tz='Europe/Copenhagen'); end_UTC = end_CET.tz_convert('UTC')"
   ]
  },
  {
   "cell_type": "markdown",
   "id": "1a2365b8-5d61-46e5-bac6-6fa164a12d39",
   "metadata": {},
   "source": [
    "Download the transmission capacities using the API:"
   ]
  },
  {
   "cell_type": "code",
   "execution_count": 5,
   "id": "e6879697-a59e-4b84-b880-785fc64e2cd1",
   "metadata": {
    "tags": []
   },
   "outputs": [],
   "source": [
    "url = f\"https://api.energidataservice.dk/dataset/Transmissionlines/download?format=json&start={str(year)}-01-01T00:00&end={str(year+1)}-01-01T00:00&timezone=DK&limit=0\"\n",
    "r = requests.get(url)\n",
    "rawdata = r.json()"
   ]
  },
  {
   "cell_type": "markdown",
   "id": "9a2cbeeb-78c5-467d-90c3-cbb52cc20d3a",
   "metadata": {},
   "source": [
    "Subset data:"
   ]
  },
  {
   "cell_type": "code",
   "execution_count": 6,
   "id": "baf589a3-6932-4210-b956-d1ff50f1156f",
   "metadata": {
    "tags": []
   },
   "outputs": [],
   "source": [
    "variables = ['HourUTC','PriceArea','ConnectedArea','ImportCapacity','ExportCapacity','HomePriceEUR','ConnectedPriceEUR','CongestionIncomeEUR','ScheduledExchangeDayAhead']\n",
    "data = {var: [rawdata[i][var] for i in range(0,len(rawdata))] for var in variables}\n",
    "df_tcap = pd.DataFrame(data).rename(columns={\n",
    "    'PriceArea':'g_E','ConnectedArea':'g_EE',\n",
    "    'ImportCapacity':'ImportCapacity_MW','ExportCapacity':'ExportCapacity_MW',\n",
    "    'HomePriceEUR':'Price_EUR/MWh_gE','ConnectedPriceEUR':'Price_EUR/MWh_gEE'\n",
    "})"
   ]
  },
  {
   "cell_type": "markdown",
   "id": "2577e11a-5503-4e47-91fa-8a4575dc377f",
   "metadata": {
    "tags": []
   },
   "source": [
    "Correct datatime format:"
   ]
  },
  {
   "cell_type": "code",
   "execution_count": 7,
   "id": "95d637e4-c63c-40f1-af10-410109951385",
   "metadata": {
    "tags": []
   },
   "outputs": [],
   "source": [
    "df_tcap['HourUTC'] = pd.to_datetime(df_tcap['HourUTC'].str.replace('T',' '),utc=True)\n",
    "df_tcap['HourCET/CEST'] = df_tcap['HourUTC'].dt.tz_convert('Europe/Brussels')"
   ]
  },
  {
   "cell_type": "markdown",
   "id": "2db75733-07bd-47a1-8a39-e2e066466961",
   "metadata": {
    "tags": []
   },
   "source": [
    "Format float columns and insert nans where there are dictionaries:"
   ]
  },
  {
   "cell_type": "code",
   "execution_count": 8,
   "id": "3f656a53-5371-408b-9bfa-a8c1cd1824c2",
   "metadata": {
    "tags": []
   },
   "outputs": [],
   "source": [
    "num_cols = ['ImportCapacity_MW','ExportCapacity_MW','Price_EUR/MWh_gE','Price_EUR/MWh_gEE','CongestionIncomeEUR','ScheduledExchangeDayAhead']\n",
    "is_dict = df_tcap[num_cols].transform(lambda x: x.apply(type).eq(dict))\n",
    "for col in [x for x,y in zip(is_dict.columns,is_dict.any()) if y]:\n",
    "    df_tcap.loc[is_dict[col],col] = np.nan\n",
    "df_tcap[num_cols] = df_tcap[num_cols].astype(float)\n",
    "df_tcap['ExportCapacity_MW'] = df_tcap['ExportCapacity_MW'].abs()"
   ]
  },
  {
   "cell_type": "markdown",
   "id": "a8ce2512-4305-4a98-bd08-ffb9042810c5",
   "metadata": {
    "tags": []
   },
   "source": [
    "Impute domestic prices if they are not available in some hours:"
   ]
  },
  {
   "cell_type": "code",
   "execution_count": 9,
   "id": "dd86dce0-3268-41b3-a10e-d49cd1b77720",
   "metadata": {
    "tags": []
   },
   "outputs": [],
   "source": [
    "idx = df_tcap['Price_EUR/MWh_gE'].isna()\n",
    "df_tcap.loc[idx,'Price_EUR/MWh_gE'] = df_tcap.groupby(['HourUTC','g_E'])['Price_EUR/MWh_gE'].transform('mean')[idx]"
   ]
  },
  {
   "cell_type": "markdown",
   "id": "e536cb84-1dfa-4173-a2af-cbb71e1bac4c",
   "metadata": {
    "tags": []
   },
   "source": [
    "Assume missing capacities are at zero:"
   ]
  },
  {
   "cell_type": "code",
   "execution_count": 10,
   "id": "3306771e-b797-4105-aea6-c803f6789c32",
   "metadata": {
    "tags": []
   },
   "outputs": [],
   "source": [
    "df_tcap['ImportCapacity_MW'] = df_tcap['ImportCapacity_MW'].fillna(0)\n",
    "df_tcap['ExportCapacity_MW'] = df_tcap['ExportCapacity_MW'].fillna(0)"
   ]
  },
  {
   "cell_type": "markdown",
   "id": "778d8197-0bbb-4b98-9811-fb601fe14594",
   "metadata": {
    "tags": []
   },
   "source": [
    "Assume congestion income is zero if missing:"
   ]
  },
  {
   "cell_type": "code",
   "execution_count": 11,
   "id": "1b24e331-e3ea-44a6-b419-78242c20bba9",
   "metadata": {
    "tags": []
   },
   "outputs": [],
   "source": [
    "df_tcap['CongestionIncomeEUR'] = df_tcap['CongestionIncomeEUR'].fillna(0)"
   ]
  },
  {
   "cell_type": "markdown",
   "id": "22839651-00e8-480d-b575-884667fc4c90",
   "metadata": {
    "tags": []
   },
   "source": [
    "Import foreign electricity price if missing:"
   ]
  },
  {
   "cell_type": "code",
   "execution_count": 12,
   "id": "e73f12e1-4135-4e56-98bf-c986b3864e2f",
   "metadata": {
    "tags": []
   },
   "outputs": [],
   "source": [
    "idx = df_tcap['Price_EUR/MWh_gEE'].isna()\n",
    "# If conegestion income is zero\n",
    "idx_tmp = (idx) & (np.isclose(df_tcap['CongestionIncomeEUR'],0))\n",
    "df_tcap.loc[idx_tmp,'Price_EUR/MWh_gEE'] = df_tcap.loc[idx_tmp,'Price_EUR/MWh_gE']\n",
    "# If congestion income is not zero and DK is exporting:\n",
    "idx_tmp = (idx) & (~np.isclose(df_tcap['CongestionIncomeEUR'],0)) & (df_tcap['ScheduledExchangeDayAhead']<0)\n",
    "df_tcap.loc[idx_tmp,'Price_EUR/MWh_gEE'] = df_tcap.loc[idx_tmp,'Price_EUR/MWh_gE']+df_tcap.loc[idx_tmp,'CongestionIncomeEUR']/df_tcap.loc[idx_tmp,'ScheduledExchangeDayAhead'].abs()\n",
    "# If congestion income is not zero and DK is importing:\n",
    "idx_tmp = (idx) & (~np.isclose(df_tcap['CongestionIncomeEUR'],0)) & (df_tcap['ScheduledExchangeDayAhead']>0)\n",
    "df_tcap.loc[idx_tmp,'Price_EUR/MWh_gEE'] = df_tcap.loc[idx_tmp,'Price_EUR/MWh_gE']-df_tcap.loc[idx_tmp,'CongestionIncomeEUR']/df_tcap.loc[idx_tmp,'ScheduledExchangeDayAhead']\n",
    "df_tcap.drop(columns=['CongestionIncomeEUR','ScheduledExchangeDayAhead'],inplace=True)"
   ]
  },
  {
   "cell_type": "markdown",
   "id": "988a2f9f-f0d5-4317-baa8-31cada5ccede",
   "metadata": {
    "tags": []
   },
   "source": [
    "Aggregate hour domestic electricity areas:"
   ]
  },
  {
   "cell_type": "code",
   "execution_count": 13,
   "id": "038060e4-3ba0-401c-8e28-bdaa89dd2f54",
   "metadata": {
    "tags": []
   },
   "outputs": [],
   "source": [
    "df_tcap[['g_E','g_EE']] = df_tcap[['g_E','g_EE']].replace({'DK1':'DK1','DK2':'DK2','DE':'DELU'})\n",
    "df_tcap = df_tcap.groupby(['g_E','g_EE','HourUTC','HourCET/CEST'])[num_cols[0:-2]].agg({\n",
    "    'ImportCapacity_MW':'sum',\n",
    "    'ExportCapacity_MW':'sum',\n",
    "    'Price_EUR/MWh_gE':'mean',\n",
    "    'Price_EUR/MWh_gEE':'mean'\n",
    "}).reset_index()\n",
    "# Remoce connections that have been aggregated out\n",
    "idx = (df_tcap['g_E']=='DK') & (df_tcap['g_EE']=='DK')\n",
    "df_tcap = df_tcap[~(idx)]"
   ]
  },
  {
   "cell_type": "markdown",
   "id": "ad5f822d-3857-4c71-9b5d-6827ae64c889",
   "metadata": {
    "tags": []
   },
   "source": [
    "Add some helpfull variables:"
   ]
  },
  {
   "cell_type": "code",
   "execution_count": 14,
   "id": "84cd026b-2298-49d2-8ebe-0e6d4328775f",
   "metadata": {
    "tags": []
   },
   "outputs": [],
   "source": [
    "df_tcap['HourOfTheDay'] = df_tcap['HourCET/CEST'].dt.hour\n",
    "df_tcap['Weekday'] = df_tcap['HourCET/CEST'].dt.weekday \n",
    "df_tcap['Week'] = df_tcap['HourCET/CEST'].dt.isocalendar().week\n",
    "df_tcap['Month'] = df_tcap['HourCET/CEST'].dt.month\n",
    "df_tcap['Year'] = df_tcap['HourCET/CEST'].dt.year\n",
    "df_tcap = df_tcap[df_tcap['Year']==year]\n",
    "df_tcap['h'] = 1\n",
    "df_tcap['h'] = df_tcap.groupby(['g_E','g_EE'])['h'].cumsum()\n",
    "new_col_order = ['g_E','g_EE','HourUTC','HourCET/CEST','Year','Month','Week','Weekday','HourOfTheDay','h']+num_cols[0:-2]\n",
    "df_tcap = df_tcap[new_col_order].sort_values(new_col_order).reset_index(drop=True)"
   ]
  },
  {
   "cell_type": "markdown",
   "id": "bb814059-a8f0-421a-bdf2-420d5563d544",
   "metadata": {
    "tags": []
   },
   "source": [
    "Save the data as a pickle:"
   ]
  },
  {
   "cell_type": "code",
   "execution_count": 15,
   "id": "cf045bc1-4f65-4d8c-a437-5debe90f66c9",
   "metadata": {
    "tags": []
   },
   "outputs": [],
   "source": [
    "file_path = os.path.join(data_dir,'TransmissionCapacities_DK_'+str(year))\n",
    "df_tcap.to_pickle(file_path)"
   ]
  },
  {
   "cell_type": "code",
   "execution_count": null,
   "id": "48d3adda-01c5-49bf-a3f6-95a66b731502",
   "metadata": {},
   "outputs": [],
   "source": []
  }
 ],
 "metadata": {
  "kernelspec": {
   "display_name": "Python 3 (ipykernel)",
   "language": "python",
   "name": "python3"
  },
  "language_info": {
   "codemirror_mode": {
    "name": "ipython",
    "version": 3
   },
   "file_extension": ".py",
   "mimetype": "text/x-python",
   "name": "python",
   "nbconvert_exporter": "python",
   "pygments_lexer": "ipython3",
   "version": "3.9.7"
  }
 },
 "nbformat": 4,
 "nbformat_minor": 5
}
