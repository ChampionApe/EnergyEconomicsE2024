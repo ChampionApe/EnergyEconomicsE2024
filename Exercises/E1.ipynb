{
 "cells": [
  {
   "cell_type": "code",
   "execution_count": 1,
   "id": "b7154486-1621-4560-99a6-7b4b38d5fd74",
   "metadata": {
    "tags": []
   },
   "outputs": [],
   "source": [
    "%run stdPackages.ipynb"
   ]
  },
  {
   "cell_type": "markdown",
   "id": "37bfb403-e1e1-41b1-93fa-8f6f2dbecf1e",
   "metadata": {
    "tags": []
   },
   "source": [
    "# Marginal Abatement Costs"
   ]
  },
  {
   "cell_type": "markdown",
   "id": "3a43b783-8b4b-4a01-9b72-351f7d6054e0",
   "metadata": {
    "tags": []
   },
   "source": [
    "## 1. A Toy Model of Abatement Costs"
   ]
  },
  {
   "cell_type": "markdown",
   "id": "02eae6f9-3097-407f-8e9c-f082e31b4723",
   "metadata": {},
   "source": [
    "In the first exercise,  we consider the model from the note *A Simple Model of Abatement Costs* in section 1. We will use specific assumptions on production and climate damages as follows:\n",
    "* Production is isoelastic with $F(E) = \\gamma E^{\\alpha}$ where $\\gamma>0$ and $\\alpha\\in(0,1)$ are constants. We will use $\\alpha = 0.5$ and $\\gamma =1$ in the following.\n",
    "* The cost of extracting fossil energy is normalized at $p_e = 1$.\n",
    "* Climate damages are quadratic with $D(M) = \\gamma_D M^2 /2$, where we will use $\\gamma_D = 100$ in the following.\n",
    "* The emission intensity of fossil energy is set to $\\phi = 0.25$."
   ]
  },
  {
   "cell_type": "markdown",
   "id": "3526d147-2dc4-48b9-891a-f0fcf63ebcba",
   "metadata": {},
   "source": [
    "*We define preliminary symbols:*"
   ]
  },
  {
   "cell_type": "code",
   "execution_count": 2,
   "id": "bc3a556e-cdcb-45c2-bccb-ec7d06cf87df",
   "metadata": {
    "tags": []
   },
   "outputs": [],
   "source": [
    "α  = .5\n",
    "γ  = 1\n",
    "pe = 1 # price on e\n",
    "ϕ  = .25\n",
    "γd = 100 # scalar in damage function "
   ]
  },
  {
   "cell_type": "markdown",
   "id": "b9f95371-7cfd-45e7-9458-75995e9c5616",
   "metadata": {},
   "source": [
    "### **Q 1.1. Consumption and Emissions As a Function of $E$**"
   ]
  },
  {
   "cell_type": "markdown",
   "id": "50bd135d-efec-41e7-8462-eeb9495dfd0e",
   "metadata": {},
   "source": [
    "*We want to plot consumption ($C$) and emissions ($M$) as a function of $E$. To do so, do the following:*\n",
    "1. *Define ```Egrid``` as a linearly spaced grid from 0 to 1 with 1000 steps. Store it as a ```pd.Index```.*\n",
    "2. *For each $E_j\\in$ ```Egrid```, solve for a corresponding value of $C_j$ and $M_j$.* *Define ```Cgrid``` and ```Mgrid``` as pandas series with these values and ```Egrid``` as the index.*\n",
    "3. *Plot both in one, e.g. by collecting them as one dataframe and using pandas build-in ```.plot()``` function.*"
   ]
  },
  {
   "cell_type": "markdown",
   "id": "c52c2838-0e4e-4e89-9a2c-68fe66425bfb",
   "metadata": {},
   "source": [
    "### **Q 1.2. Baseline and optimal solutions**"
   ]
  },
  {
   "cell_type": "markdown",
   "id": "593f3d67-6dda-4cb6-adf6-6fd1dea0e96f",
   "metadata": {},
   "source": [
    "*Next, we want to compare the \"baseline\" solution to the optimal one. As mentioned in the lecture note, the baseline solution maximizes consumption without considering the climate externality, that is:*\n",
    "\n",
    "$$\\begin{align}\n",
    "    C^0 = \\max\\left(F(E)-p_eE\\right).\n",
    "\\end{align}$$\n",
    "\n",
    "*The first order condition for $E^0$ is then given by $F'(E)=p_e$. Solving this, we can write the baseline solution as:*\n",
    "\n",
    "$$\\begin{align}\n",
    "    E^0 &= \\left(\\dfrac{\\gamma \\alpha}{p_e}\\right)^{\\frac{1}{1-\\alpha}} \\\\ \n",
    "    C^0 &= \\gamma \\left(E^0\\right)^{\\alpha}-p_e E^0 \\\\ \n",
    "    M^0 &= \\phi E^0.\n",
    "\\end{align}$$\n",
    "\n",
    "*The optimal solution is the one that internalizes the climate externality, that is*\n",
    "\n",
    "$$\\begin{align}\n",
    "    C^* = \\max\\left(F(E)-p_eE-D(M)\\right).\n",
    "\\end{align}$$\n",
    "\n",
    "*With the functional forms used in this model, the condition that identifies the optimal $E^*$ (eq (3) from the lecture note), is given by:*\n",
    "\n",
    "$$\\begin{align}\n",
    "    \\alpha \\gamma E^{\\alpha-1}-p_e-\\gamma_D\\phi^2E = 0. \\tag{1}\n",
    "\\end{align}$$\n",
    "\n",
    "1. *Compute the level of \"baseline\" consumption $(C^0)$, fossil energy consumption $(E^0)$, and emissions $(M^0)$.*\n",
    "2. *Solve for the optimal solution $C^*, E^*, M^*$.*\n",
    "\n",
    "*Hint: There are several ways of numerically solving nonlinear equations like (1). One way is to use the ```fsolve``` method from ```scipy.optimize```. The ```scipy.optimize.fsolve(f, x0)``` solves the problem $f(x) = 0$ numerically, starting from the guess ```x0```. The following snippet, for instance, would solve for the x that satisfies $x^2-2x = 0$ starting with a guess of $x=1$:*\n",
    "```python\n",
    "x = scipy.optimize.fsolve(lambda x: x**2-2x, 1)\n",
    "```\n"
   ]
  },
  {
   "cell_type": "markdown",
   "id": "21007b01-9731-4c79-8daf-b703adb929d4",
   "metadata": {},
   "source": [
    "### **Q 1.3. Plot marginal abatement costs and marginal damages**"
   ]
  },
  {
   "cell_type": "markdown",
   "id": "c4bd1da2-163a-4498-aaef-b2365ac2b9f2",
   "metadata": {},
   "source": [
    "*We want to plot something like figure 1.3 in the lecture note:*\n",
    "1. *Use ```Egrid``` from Q1.1. For each $E_j \\in$```Egrid```, compute the marginal abatement costs and collect them in a vector ```MACgrid``` (e.g. a numpy array). Recall that the MAC curve is defind in (3) in the lecture note as*\n",
    "\n",
    "$$\\begin{align}\n",
    "    MAC = \\dfrac{F'(E)-p_e}{\\phi} = \\dfrac{\\gamma\\alpha E^{\\alpha-1}-p_e}{\\phi}.\n",
    "\\end{align}$$\n",
    "\n",
    "2. *For each $E_j\\in$```Egrid```, compute the marginal damages and collect them in a vector ```MDgrid``` (e.g. a numpy array). Recall that marginal damages are defined as*\n",
    "\n",
    "$$\\begin{align}\n",
    "    D'(M) = \\gamma_D M = \\gamma_D \\phi E.\n",
    "\\end{align}$$\n",
    "\n",
    "3. *Next, use that abated emissions are defined as $A \\equiv M^0-M = M^0-\\phi E$ to define ```Agrid``` for each $E_j\\in$```Egrid```. Define the ```Agrid``` as a ```pd.Index```.*\n",
    "\n",
    "4. *Redefine ```MACgrid``` and ```MDgrid``` as ```pd.Series``` objects with the index ```Agrid```.*\n",
    "5. *Plot both in one, e.g. by collecting them as one dataframe and using pandas build-in ```.plot()``` function.*"
   ]
  },
  {
   "cell_type": "markdown",
   "id": "9b0e89c5-65ce-4f36-ad76-a9a9eb368c0e",
   "metadata": {
    "tags": []
   },
   "source": [
    "## Q2. Marginal Abatement Costs With Technical Abatement "
   ]
  },
  {
   "cell_type": "markdown",
   "id": "e7940f6a-e52f-4c99-ad73-3ed00504c5bd",
   "metadata": {},
   "source": [
    "In the second exercise, we consider the model from section 2 in *A Simple Model of Abatement Costs*. We generally rely on the same assumptions as in exercise 1 (on parameter values and functional forms). The extension in section 2 is abatement technologies. We assume that there are three technologies that we'll call $T1, T2, T3$. For each technology $i$ we know the following:\n",
    "* They can at most reduce $\\theta_i$ of all emissions (*their potential*).\n",
    "* It costs, on average, $c_i$ €/ton of \\CO2 reductions. \n",
    "* It is cheaper to reduce the first ton of emissions than the last one (increasing costs). $\\sigma_i$ is a measure of the dispersion in the costs within each technology.\n",
    "\n",
    "In this exercise, we will specifically assume that the costs of using each technology are log-normally distributed. You are not expected to go through the math, but appendix A in *A Simple Model of Abatement Costs* shows how to derive the various formula (for the interested student). It turns out (cf. appendix A), that when technology costs are log-normally distributed as assumed here, the *optimal* use of these abatement technologies is returned in a nice mathematical form. Following the notation from the lecture note, we have that for each technology $i$:\n",
    "\n",
    "$$\\begin{align}\n",
    "    a_i^* &= \\Phi\\left(\\dfrac{\\ln\\left(\\frac{D'(M)}{c_i}\\right)+\\sigma_i^2/2}{\\sigma_i}\\right),\n",
    "\\end{align}$$\n",
    "where $\\Phi$ is the standard normal CDF. The costs of using the abatement technology $i$ then follows from:\n",
    "$$\\begin{align}\n",
    "    f_i(a_i^*) &= c_i\\Phi\\left(\\dfrac{\\ln\\left(\\frac{D'(M)}{c_i}\\right)-\\sigma_i^2/2}{\\sigma_i}\\right),\n",
    "\\end{align}$$\n"
   ]
  },
  {
   "cell_type": "markdown",
   "id": "d1521623-0bfa-4393-ba7a-b9bae08286e8",
   "metadata": {},
   "source": [
    "In our case, we assume that technology data is provided in the form:\n",
    "\n",
    "| **Technology** | $\\theta_i$ | $c_i$ | $\\sigma_i$ |\n",
    "| --- | --- | --- | --- |\n",
    "| $T1$ | $0.1$ | $0.5$ | $0.1$ |\n",
    "| $T2$ | $0.2$ | $2$ | $0.2$ |\n",
    "| $T3$ | $0.3$ | $5$ | $0.05$ |"
   ]
  },
  {
   "cell_type": "markdown",
   "id": "9609ad35-e92d-4de2-9165-bb008d619712",
   "metadata": {},
   "source": [
    "*We define technology data:*"
   ]
  },
  {
   "cell_type": "code",
   "execution_count": 6,
   "id": "2ff2b722-7a43-4033-a730-ffb909b3ae42",
   "metadata": {
    "tags": []
   },
   "outputs": [],
   "source": [
    "Tech = pd.Index(['T1','T2', 'T3'], name = 'i')\n",
    "θ = pd.Series([0.1, 0.2, 0.3], index = Tech, name  = 'θ')\n",
    "c = pd.Series([0.5, 2, 5], index = Tech, name = 'c')\n",
    "σ = pd.Series([.1, .2, .05], index = Tech, name = 'σ')"
   ]
  },
  {
   "cell_type": "markdown",
   "id": "fa9785e7-5b89-4dd8-bc75-556620a8dcd4",
   "metadata": {},
   "source": [
    "*Defining parameters with the ```Tech``` as the index, we can now access the appropriate values using simple \"slicing\" syntax:*"
   ]
  },
  {
   "cell_type": "code",
   "execution_count": 7,
   "id": "d37eb21b-fe34-4e19-bfd4-2a0d96371007",
   "metadata": {
    "tags": []
   },
   "outputs": [
    {
     "data": {
      "text/plain": [
       "0.1"
      ]
     },
     "execution_count": 7,
     "metadata": {},
     "output_type": "execute_result"
    }
   ],
   "source": [
    "θ['T1'] # get the θ parameter for technology T1"
   ]
  },
  {
   "cell_type": "markdown",
   "id": "51c2b5ec-231e-44dc-a306-969861280e41",
   "metadata": {},
   "source": [
    "*Also, we make it easier to use the cumulative normal distribution $\\Phi$ by re-naming this as a shorthand from ```scipy.stats.norm.cdf```:*"
   ]
  },
  {
   "cell_type": "code",
   "execution_count": 8,
   "id": "c0081414-5ecf-47c2-818a-87d246d03766",
   "metadata": {
    "tags": []
   },
   "outputs": [
    {
     "data": {
      "text/plain": [
       "0.5"
      ]
     },
     "execution_count": 8,
     "metadata": {},
     "output_type": "execute_result"
    }
   ],
   "source": [
    "Φ = stats.norm.cdf\n",
    "Φ(0) # this is the syntax used from hereon to call the cdf"
   ]
  },
  {
   "cell_type": "markdown",
   "id": "6da413b4-3f95-40ef-8383-f7703ccb4755",
   "metadata": {},
   "source": [
    "### **Q 2.1. Technological Abatement as Function of $D'(M)$**"
   ]
  },
  {
   "cell_type": "markdown",
   "id": "549a520c-3b36-478a-92dc-49278d6923ea",
   "metadata": {},
   "source": [
    "*As you can see in the formula for $a^*$ and $f_i(a_i^*)$, the main input required is the marginal damages. So, in order to visualize the optimal technical abatement, we start by defining ```MDgrid``` as a linearly spaced grid of marginal damages from 0 to 10. Here, we define it as an index to be used in functions below:*"
   ]
  },
  {
   "cell_type": "code",
   "execution_count": 9,
   "id": "dccea0ac-f564-4c56-adea-4afacd6ef0c5",
   "metadata": {},
   "outputs": [],
   "source": [
    "MDgrid = pd.Index(np.linspace(np.finfo(float).eps, 10, 1000), name = \"$D'(M)$\") # np.finfo(float).eps is the lowest float-value that is larger than zero; this is to avoid taking ln(0) in the following which throws a warning."
   ]
  },
  {
   "cell_type": "markdown",
   "id": "38bc61eb-24c6-4218-b5d6-5f853dc96940",
   "metadata": {},
   "source": [
    "1. *Define a function ```func_aopt_i(md, i)``` that takes marginal damages ```md``` and the technology ```i``` and returns $a_i^*$.*\n",
    "2. *Define a function ```func_faopt_i(md, i)``` that takes marginal damages ```md``` and the technology ```i``` and returns $f_i(a_i^*)$.*\n",
    "3. *Create a ```pd.DataFrame``` called ```df_aopt``` with $a_i^*(D'(M))$ values. The rows indicate different values of marginal damages (from ```MDgrid```) and the columns indicate the different technologies.*\n",
    "4. *Create a similar dataframe with the associated costs ```df_faopt```.*\n",
    "5. *Multiply ```df_aopt``` with $\\theta$ and define the sum over the columns as ```aoptSum```. Do the same for ```df_faopt```.*\n",
    "6. *Plot the two.*"
   ]
  },
  {
   "cell_type": "markdown",
   "id": "7b7b9fb1-c339-42c1-9957-99b63cb55d9a",
   "metadata": {},
   "source": [
    "### **Q 2.2. Reconstruct figure 2.1 from the lecture note**"
   ]
  },
  {
   "cell_type": "markdown",
   "id": "8d0bf099-00b3-4ee5-98ce-29c8530b64f3",
   "metadata": {},
   "source": [
    "*Figure 2.1 shows how the technical abatement mitigates climate damages through lowering actual emissions. The plot shows the right-hand side of equation (7) plotted for a range of $D'(M)$-values.*\n",
    "\n",
    "1. *Use that we already have $\\sum_i \\theta_ia_i$ and $\\sum_i \\theta_if_i(a_i)$ defined from Q2.1 to define ```margCostOfM``` as the right-hand side of (7) for each $D'(M)$ from ```MDgrid```.*\n",
    "2. *Try to use this to plot something like figure 2.1 in the lecture note.*"
   ]
  },
  {
   "cell_type": "markdown",
   "id": "3280df1b-272f-4111-972e-2c8e3eaa1a1b",
   "metadata": {},
   "source": [
    "### **Q 2.3. Optimal solution (Extra)**"
   ]
  },
  {
   "cell_type": "markdown",
   "id": "6720aa59-2bb3-40de-9a66-62c3c9e9d513",
   "metadata": {},
   "source": [
    "*With technical abatement, the optimal level of fossil energy consumption $E^*$ is the one that solves*\n",
    "\n",
    "$$\\begin{align}\n",
    "    \\dfrac{F'(E)- p_e}{\\phi} = D'(M)\\left(1-\\sum_i\\theta_ia_i\\right)+\\sum_i\\theta_if_i(a_i),     \\qquad D'(M) = \\gamma_D M \\tag{2a} \\\\\n",
    "\\end{align}$$\n",
    "\n",
    "*where* \n",
    "\n",
    "$$\\begin{align}\n",
    "    M &= \\phi E\\left(1-\\sum_i \\theta_ia_i\\right), \\tag{2b} \\\\\n",
    "    a_i &= \\Phi\\left(\\dfrac{\\ln\\left(\\frac{D'(M)}{c_i}\\right)+\\sigma_i^2/2}{\\sigma_i}\\right) \\tag{2c} \\\\ \n",
    "    f_i(a_i) &= c_i\\Phi\\left(\\dfrac{\\ln\\left(\\frac{D'(M)}{c_i}\\right)-\\sigma_i^2/2}{\\sigma_i}\\right) \\tag{2d}\n",
    "\\end{align}$$"
   ]
  },
  {
   "cell_type": "markdown",
   "id": "9b75b461-b3fb-4ae5-8ef6-fce663e07384",
   "metadata": {},
   "source": [
    "*Show that we can combine all of these equations into a single one that depends only on $M$ such that:*\n",
    "$$\\begin{align}\n",
    "    \\alpha \\gamma \\left(\\dfrac{M}{\\phi\\left[1-a^{sum}\\left(M\\right)\\right]}\\right)^{\\alpha-1}-p_e = \\phi \\gamma_D M \\left[1-a^{sum}\\left(M\\right)\\right]+\\phi f^{sum}\\left(M\\right), \\tag{3}\n",
    "\\end{align}$$\n",
    "*where $a^{sum}(\\gamma_D M)$ and $f^{sum}(\\gamma_D M)$ are functions of $M$ as*\n",
    "\n",
    "$$\\begin{align}\n",
    "    a^{sum}\\left(M\\right) &= \\sum_i\\theta_i \\Phi\\left(\\dfrac{\\ln\\left(\\frac{\\gamma_D M}{c_i}\\right)+\\sigma_i^2/2}{\\sigma_i}\\right) \\\\\n",
    "    f^{sum}\\left(M\\right) &= \\sum_i\\theta_i c_i\\Phi\\left(\\dfrac{\\ln\\left(\\frac{\\gamma_D M}{c_i}\\right)-\\sigma_i^2/2}{\\sigma_i}\\right).\n",
    "\\end{align}$$"
   ]
  },
  {
   "cell_type": "markdown",
   "id": "fdf4eeca-8a41-4ebd-bcc4-c2f995ce5c46",
   "metadata": {},
   "source": [
    "### **Q 2.4. Optimal solution, continued (extra)**"
   ]
  },
  {
   "cell_type": "markdown",
   "id": "c199a7c8-16ff-455a-86a0-568437584e51",
   "metadata": {},
   "source": [
    "*Use ```scipy.optimize.fsolve``` to identify the optimal solution $M^*$. Then, define optimal $E^*, C^*$. In order to do so, the following snippets define the functions $a^{sum}, f^{sum}$ as a function of $M$:*"
   ]
  },
  {
   "cell_type": "markdown",
   "id": "95b1b927-6f2f-44b4-a7e2-a054bedfc0bf",
   "metadata": {},
   "source": [
    "```python\n",
    "aSum = lambda M: sum([θ[i]*func_aopt_i(γd * M, i) for i in Tech])\n",
    "fSum = lambda M: sum([θ[i]*func_faopt_i(γd * M, i) for i in Tech])\n",
    "```"
   ]
  },
  {
   "cell_type": "markdown",
   "id": "e64243bd-93c9-48e1-9cbc-17779f77f68d",
   "metadata": {},
   "source": [
    "*Once you have identified $M^*$, you can compute $E^*$ from (2b) and $C^*$ from equation (5) in the lecture note.*"
   ]
  },
  {
   "cell_type": "markdown",
   "id": "36c4b947-d2f8-4228-88e4-07cfd5df8d62",
   "metadata": {},
   "source": [
    "*Hint: When solving for $M^*$, you need a relatively good initial guess for numerical optimization to work. Use ```x0 = M0/2```.*"
   ]
  }
 ],
 "metadata": {
  "kernelspec": {
   "display_name": "Python 3 (ipykernel)",
   "language": "python",
   "name": "python3"
  },
  "language_info": {
   "codemirror_mode": {
    "name": "ipython",
    "version": 3
   },
   "file_extension": ".py",
   "mimetype": "text/x-python",
   "name": "python",
   "nbconvert_exporter": "python",
   "pygments_lexer": "ipython3",
   "version": "3.11.3"
  }
 },
 "nbformat": 4,
 "nbformat_minor": 5
}
