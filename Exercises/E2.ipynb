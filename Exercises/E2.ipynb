{
 "cells": [
  {
   "cell_type": "code",
   "execution_count": 1,
   "id": "589e0103-619b-4259-9ad8-ec91ecedfd16",
   "metadata": {
    "tags": []
   },
   "outputs": [],
   "source": [
    "%run stdPackages.ipynb"
   ]
  },
  {
   "cell_type": "markdown",
   "id": "ab2f6bf0-73d7-450d-b30c-d004c7d25d13",
   "metadata": {
    "tags": []
   },
   "source": [
    "# Marginal Abatement Costs - BYOC"
   ]
  },
  {
   "cell_type": "markdown",
   "id": "a5c4f997-d75e-4e6c-bf45-a21885709d90",
   "metadata": {},
   "source": [
    "In this exercise, we'll build our own classes to solve some of the same problems as we did in problem set 1. The notebook only contains snippet of code; it is, generally, better practice to write classes and more involved code in designated ```.py``` files. In this example, you should add it to the file ```/pyfiles/E2.py```."
   ]
  },
  {
   "cell_type": "markdown",
   "id": "dace27a0-a9e7-4c67-82df-36458254a4cb",
   "metadata": {},
   "source": [
    "*This snippet loads the classes/methods that you've defined in ```pyfiles/E2.py:```*"
   ]
  },
  {
   "cell_type": "code",
   "execution_count": 2,
   "id": "bf41a3b1-8c43-48c2-825c-61ff56db6781",
   "metadata": {
    "tags": []
   },
   "outputs": [],
   "source": [
    "os.chdir(d['curr'])\n",
    "from pyfiles.E2 import MAC, MACTech"
   ]
  },
  {
   "cell_type": "markdown",
   "id": "4f86e7dd-f307-4fd1-bcce-b739a8542a38",
   "metadata": {
    "tags": []
   },
   "source": [
    "## Q1. A Toy Model of Abatement Costs"
   ]
  },
  {
   "cell_type": "markdown",
   "id": "9cc3c3fb-6396-402b-99f0-db89007065a3",
   "metadata": {},
   "source": [
    "### **Q 1.1. Define base class**"
   ]
  },
  {
   "cell_type": "markdown",
   "id": "84186b10-5600-402a-9866-be24b4b0d5fa",
   "metadata": {},
   "source": [
    "*Define a class ```MAC``` with a constructor method (```__init__```) that:*\n",
    "1. *Adds a database attribute as ```self.db``` as a dictionary.*\n",
    "2. *Adds values for all relevant parameters to the database.*\n",
    "3. *Allow you to modify default values by passing them to the ```__init__``` method.*\n",
    "4. *Add methods that allows you to compute $C(E)$, $M(E)$, $\\tilde{C}(E), MAC(E) = (F'(E)-p_e)/\\phi$ all on grids of $E$.*\n",
    "\n",
    "*You should be able to get the value of a symbol x by calling ```self.db['x']```*"
   ]
  },
  {
   "cell_type": "markdown",
   "id": "b494c6b7-c8c7-47f4-9fbd-c126fdfaff99",
   "metadata": {},
   "source": [
    "### **Q 1.2. Add baseline and optimal solutions as methods to the class**"
   ]
  },
  {
   "cell_type": "markdown",
   "id": "03ab4f7a-56c6-4e4d-b70b-eb034092db04",
   "metadata": {},
   "source": [
    "*Next, define methods that allow you to compute a baseline solution and an optimal one.*"
   ]
  },
  {
   "cell_type": "markdown",
   "id": "ff709e67-5583-479c-9650-b4d2e6ae00c2",
   "metadata": {},
   "source": [
    "### **Q 1.3. Initialize instance of the class and plot $E^*$ as a function of $\\gamma$ and $\\phi$.**"
   ]
  },
  {
   "cell_type": "markdown",
   "id": "c7caf768-a934-4e3f-829b-fbfe935292de",
   "metadata": {},
   "source": [
    "*Hint: It should end up looking something like this*"
   ]
  },
  {
   "cell_type": "code",
   "execution_count": 4,
   "id": "d3cc9190-eaab-4aeb-90ed-d5cc2300f9c4",
   "metadata": {
    "tags": []
   },
   "outputs": [
    {
     "data": {
      "text/html": [
       "\n",
       "        <iframe\n",
       "            width=\"800\"\n",
       "            height=\"400\"\n",
       "            src=\"./Figs/S2_Q13.pdf\"\n",
       "            frameborder=\"0\"\n",
       "            allowfullscreen\n",
       "            \n",
       "        ></iframe>\n",
       "        "
      ],
      "text/plain": [
       "<IPython.lib.display.IFrame at 0x26a3a3f5d10>"
      ]
     },
     "execution_count": 4,
     "metadata": {},
     "output_type": "execute_result"
    }
   ],
   "source": [
    "IFrame(\"./Figs/S2_Q13.pdf\", width=800, height=400)"
   ]
  },
  {
   "cell_type": "markdown",
   "id": "d9399442-f691-4ff8-9aae-f70e7c3bb5fe",
   "metadata": {
    "tags": []
   },
   "source": [
    "## Q2. Technical abatement as a child-class"
   ]
  },
  {
   "cell_type": "markdown",
   "id": "f1bbd34e-b43a-437a-9cbd-be55eae2163c",
   "metadata": {},
   "source": [
    "In this exercise, we'll build a class on top of the parent class from **Q1** to look a bit into inheritance. As you'll see later in the course, (almost) all of the energy system models we build are children classes of the base class ```modelShell``` from ```lpModels```.\n",
    "\n",
    "*NB: Some of the methods in ```MAC``` changes when we go to ```MACTech``` (e.g. the way to compute $C$ and $M$). As it is best practice to make sure that the parent class (```MAC```) methods doesn't break with child classes, we've added the argument ```**kwargs``` a couple of places in the base class. This allows us to add new arguments in ```MACTech``` methods that would simply not impact the base methods.*"
   ]
  },
  {
   "cell_type": "markdown",
   "id": "2217a93c-6da4-44a5-92b5-30c0c01bdace",
   "metadata": {},
   "source": [
    "### **Q 2.1. Briefly explain the initial part of this class**"
   ]
  },
  {
   "cell_type": "markdown",
   "id": "8f965e1a-6f6e-4aa1-8e83-1ff3a127c7a9",
   "metadata": {},
   "source": [
    "```python\n",
    "class MACTech(MAC):\n",
    "    def __init__(self, α = .5, γ = 1, pe = 1, ϕ = .25, γd = 100, θ = None, c = None, σ = None):\n",
    "        super().__init__(α = α, γ = γ, pe = pe, ϕ = ϕ, γd = γd) # use __init__ method from parent class\n",
    "        self.initTechs(θ = θ, c = c, σ = σ)\n",
    "        \n",
    "    def initTechs(self, θ = None, c = None, σ = None):\n",
    "        \"\"\" Initialize technologies from default values \"\"\"\n",
    "        if θ is None:\n",
    "            self.db['Tech'] = pd.Index(['T1'], name = 'i')\n",
    "            self.db['θ'] = pd.Series(0, index = self.db['Tech'], name = 'θ')\n",
    "            self.db['c'] = pd.Series(1, index = self.db['Tech'], name = 'c')\n",
    "            self.db['σ'] = pd.Series(1, index = self.db['Tech'], name = 'σ')\n",
    "        elif isinstance(θ, pd.Series):\n",
    "            self.db['θ'] = θ\n",
    "            self.db['c'] = c\n",
    "            self.db['σ'] = σ\n",
    "            self.db['Tech'] = self.db['θ'].index\n",
    "        else:\n",
    "            self.db['Tech'] = 'T'+pd.Index(range(1, len(θ)+1), name = 'i').astype(str)\n",
    "            self.db['θ'] = pd.Series(θ, index = self.db['Tech'], name = 'θ')\n",
    "            self.db['c'] = pd.Series(c, index = self.db['Tech'], name = 'c')\n",
    "            self.db['σ'] = pd.Series(1, index = self.db['Tech'], name = 'σ')\n",
    "```"
   ]
  },
  {
   "cell_type": "markdown",
   "id": "785f1b0f-9daf-463c-b19b-18d9340f5ce8",
   "metadata": {},
   "source": [
    "### **Q 2.2. Add relevant methods to the class**"
   ]
  },
  {
   "cell_type": "markdown",
   "id": "1c42cf9b-bdd4-49b9-a548-fe39e214c148",
   "metadata": {},
   "source": [
    "1. *Add methods that determine optimal abatement and abatement costs given marginal damages.*\n",
    "2. *Adjust existing methods for computing $C$, $\\tilde{C}$ to this class with technical abatement (now they are functions of $M$ as well)*\n",
    "3. *Add/adjust the methods that define the optimal solution for $E,M,C$. using the methods in **Q2.4** in PS1.*"
   ]
  },
  {
   "cell_type": "markdown",
   "id": "4094c80b-a3c0-4033-bbfa-c40cb6eb614d",
   "metadata": {},
   "source": [
    "### **Q 2.3. Compute marginal abatement costs on a grid of abated emissions**"
   ]
  },
  {
   "cell_type": "markdown",
   "id": "922fe732-6d94-4d2f-9a21-7cd88f673dff",
   "metadata": {},
   "source": [
    "*Start with an initialization of your class:*"
   ]
  },
  {
   "cell_type": "code",
   "execution_count": 5,
   "id": "6f9914fe-da49-4860-a364-944763c89271",
   "metadata": {},
   "outputs": [],
   "source": [
    "Tech = pd.Index(['T1','T2', 'T3'], name = 'i')\n",
    "θ = pd.Series([0.25, 0.25, 0.25], index = Tech, name  = 'θ')\n",
    "c = pd.Series([0.5, 2, 5], index = Tech, name = 'c')\n",
    "σ = pd.Series([.025, .025, .025], index = Tech, name = 'σ')\n",
    "mTech = MACTech(θ = θ, c= c, σ=σ)"
   ]
  },
  {
   "cell_type": "markdown",
   "id": "5f1a1933-f0a7-4868-b217-b97231b320fb",
   "metadata": {},
   "source": [
    "*Finally, we want a method that allows us to replicate figure 2.2. in the lecture note with slightly different technology parameters. To do this, we need to go through a couple of steps. We start from equation (8) that defines marginal abatement costs. This equation currently depends on $E$ and technical abatement variables $a_i$ that ultimately depends on the marginal damages in optimum. To get at the MAC curve, proceed as follows:*\n",
    "\n",
    "1. *Form a grid of marginal damages ```mdGrid``` as a linear space from 0 to 10.*\n",
    "2. *For each $md_j \\in$ ```mdGrid```, compute the right-hand side of eq. (7) that defines optimality given marginal damages. Define this vector ```mcGrid```.*\n",
    "3. *Given the value of $mc_j\\in$ ```mcGrid```, we can now back out the corresponding level of $E_j$ from (7), that is:*\n",
    "$$\\begin{align}\n",
    "    \\dfrac{F'(E_j)-p_e}{\\phi} = mc_j \\qquad \\Rightarrow \\qquad E_j = \\left(\\dfrac{\\alpha \\gamma}{\\phi mc_j+p_e}\\right)^{\\frac{1}{1-\\alpha}}\n",
    "\\end{align}$$\n",
    "    *We define the vector of these $E_j$ as ```Egrid```*\n",
    "4. *Next, for each $md_j\\in$ ```mdGrid```, compute emissions from $M = E \\phi (1-\\sum_i\\theta_ia_i)$ and define this vector ```Mgrid```.*\n",
    "5. *Finally, exploit that $MAC = D'(M)$, to define MAC on the grid of abated emissions. (this is a pandas series with values = ```mdGrid``` and index = M0-```Mgrid```)*\n",
    "6. *Plot this against the MAC-curve without technical effects. Briefly comment.*"
   ]
  },
  {
   "cell_type": "code",
   "execution_count": 6,
   "id": "5aa967b0-e4a7-476d-bd20-8e3fdb8445c7",
   "metadata": {
    "tags": []
   },
   "outputs": [],
   "source": [
    "mdGrid = np.linspace(np.finfo(float).eps, 10, 1000)"
   ]
  },
  {
   "cell_type": "markdown",
   "id": "90676bcb-0265-4364-ad98-702f3fba2f75",
   "metadata": {},
   "source": [
    "*Hint: With the chosen parameter values, it'll end up looking something like this*"
   ]
  },
  {
   "cell_type": "code",
   "execution_count": null,
   "id": "dfcbe4b2-a6ac-4e7b-ab67-38db4c97f1d8",
   "metadata": {
    "tags": []
   },
   "outputs": [
    {
     "data": {
      "text/html": [
       "\n",
       "        <iframe\n",
       "            width=\"800\"\n",
       "            height=\"400\"\n",
       "            src=\"./Figs/S2_Q23.pdf\"\n",
       "            frameborder=\"0\"\n",
       "            allowfullscreen\n",
       "            \n",
       "        ></iframe>\n",
       "        "
      ],
      "text/plain": [
       "<IPython.lib.display.IFrame at 0x26a3a93af10>"
      ]
     },
     "execution_count": 5,
     "metadata": {},
     "output_type": "execute_result"
    }
   ],
   "source": [
    "IFrame(\"./Figs/S2_Q23.pdf\", width=800, height=400)"
   ]
  }
 ],
 "metadata": {
  "kernelspec": {
   "display_name": "Python 3 (ipykernel)",
   "language": "python",
   "name": "python3"
  },
  "language_info": {
   "codemirror_mode": {
    "name": "ipython",
    "version": 3
   },
   "file_extension": ".py",
   "mimetype": "text/x-python",
   "name": "python",
   "nbconvert_exporter": "python",
   "pygments_lexer": "ipython3",
   "version": "3.11.3"
  }
 },
 "nbformat": 4,
 "nbformat_minor": 5
}
