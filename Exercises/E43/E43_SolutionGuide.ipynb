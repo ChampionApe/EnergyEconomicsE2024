{
 "cells": [
  {
   "cell_type": "markdown",
   "id": "579db40c-cd25-49b6-b8d4-445d4abe501c",
   "metadata": {
    "tags": []
   },
   "source": [
    "# Exercise 43: A small open economy model for Denmark"
   ]
  },
  {
   "cell_type": "markdown",
   "id": "fb4bb479-4002-4e02-923d-691e86b0b3d0",
   "metadata": {},
   "source": [
    "In this exercise you will be askes to program a small open economy model adapted to Danish conditions. That is, the model features both domestic power and heat markets as well as trade in electricity with foreign electricity markets. The model is described below:\n",
    "- __Electricity zones__: Electricity zones are denoted by $g\\in\\mathcal{G}$. Furthermore:\n",
    "    - There are two domestic electricity zones denoted by $g\\in\\mathcal{G}_{DK}\\{\\text{DK1},\\text{DK2}\\}$.\n",
    "    - There are five international electricity zones denoted by $g\\in\\mathcal{G}_F=\\{\\text{DELU},\\text{NL},\\text{NO2},\\text{SE3},\\text{SE4}\\}$, where\n",
    "        - $\\text{DELU}$=Germany and Luxembourg,\n",
    "        - $\\text{NL}$=Netherlands,\n",
    "        - $\\text{NO2}$= the Southern electricity zone in Norway, and \n",
    "        - $\\text{SE3}$ and $\\text{SE4}$ are two separate zones in Sweden.\n",
    "- __District heating areas__: In each of the domestic electricity zones there are three district heat areas (i.e. $3\\times 2=6$ in total). The district heating areas are denoted by $d$ and they are distinguished according to central areas, large decentral areas, and small decentral areas. Hence, we have \n",
    "\n",
    "    $d\\in\\mathcal{D}$=$\\{\\text{DK1}_\\text{Central}$,$\\text{DK1}_\\text{LargeDecentral}$,$\\text{DK1}_\\text{SmallDecentral}$,$\\text{DK2}_\\text{Central}$,$\\text{DK2}_\\text{LargeDecentral}$,$\\text{DK2}_\\text{SmallDecentral}\\}$\n",
    "    - For notational clarity we also introduce the many-to-one mapping, $\\mathcal{D}_{H\\rightarrow E}(\\mathcal{D},\\mathcal{G})$, which specifies which elements of $\\mathcal{D}$ belongs to each element in $\\mathcal{G}$, i.e. which district heating area resides in a specific electricitity zone.\n",
    "- __Generators__ are denoted by $i$, where \n",
    "    - $\\mathcal{I}^E$ is the set of standard electricity producing plants.\n",
    "    - $\\mathcal{I}^{BP}$ is the set of back-pressure plants.\n",
    "    - $\\mathcal{I}^{HP}$ is the set of heat-pump-like plants.\n",
    "- __Consumers__ are denoted by $k$, where \n",
    "    - $\\mathcal{K}^E$ is the set electricity consumers.\n",
    "    - $\\mathcal{K}^H$ is the set of heat consumers.\n",
    "    \n",
    "Otherwise, the notation is identical to the lecture note on Models in Energy Economics.\n",
    "    \n",
    "We can now define the social planner's problem as:"
   ]
  },
  {
   "cell_type": "markdown",
   "id": "4f973ec6-343f-4ec5-953e-106370ed7c36",
   "metadata": {},
   "source": [
    "\\begin{align}\n",
    "    \\max_{D^E_{k,g,h},E_{i,g,h},x_{l,h},D^H_{k,d,h},H_{k,i,d,h}}W &= \\sum_{h,g} \\left[\\sum_{k\\in\\mathcal{K}^E}\\left(u_{k,g}\\cdot D^E_{k,g,h}\\right)-\\sum_{i\\in\\mathcal{I}^E \\cup \\mathcal{I}^{BP} }\\left(c_i\\cdot E_{i,g,h}+\\text{FOM}_i\\cdot q_i^E\\right)\\right] \\notag \\\\ \n",
    "                &-\\sum_l\\left(\\text{FOM}_l\\cdot  q^T_l+\\sum_hc_l\\cdot x_{l,h}\\right) \\tag{0.1} \\\\ \n",
    "                &+\\sum_{h,d} \\left[\\sum_{k\\in\\mathcal{K}^H}\\left(u_{k,d}\\cdot D^H_{k,d,h}\\right) - \\sum_{i\\in\\mathcal{I}^H\\cup\\mathcal{I}^{HP}}\\left(c_i H_{i,d,h} + FOM_i\\cdot q_i^H\\right)\\right]\\notag \\\\\n",
    "                \\notag \\\\\n",
    "                & \\text{subject to} \\notag \\\\\n",
    "                \\notag \\\\\n",
    "    \\sum_{k\\in\\mathcal{K}^E}D^E_{k,g,h} &=\\sum_{i\\in\\mathcal{I}^E\\cup \\mathcal{I}^{BP}\\cup\\mathcal{I}^{HP}}E_{i,g,h}+\\sum_{l\\in\\mathcal{S}_{g}}\\left[(1-\\text{ll})\\cdot x_{l',h}-x_{l,h}\\right] \\tag{0.2} \\\\\n",
    "    \\sum_{k\\in\\mathcal{K}^H}D^H_{k,d,h} &=\\sum_{i\\in\\mathcal{I}^H\\cup\\mathcal{I}^{BP}\\cup\\mathcal{I}^{HP}} H_{i,d,h} \\tag{0.3}\\\\\n",
    "    E_{i,g,h} &=\\sum_{g_H\\in\\mathcal{D}_{H \\rightarrow E}} \\nu_i H_{i,d,h}, \\qquad \\forall i\\in\\mathcal{I}^{BP}\\cup\\mathcal{I}^{HP} \\tag{0.4} \\\\\n",
    "    D^E_{k,g,h} &\\in[0,L^E_{k,h}], \\qquad \\forall k \\in \\mathcal{K}^E \\tag{0.5}\\\\ \n",
    "    D^H_{k,d,h} &\\in[0,L^H_{k,h}], \\qquad \\forall k \\in \\mathcal{K}^H \\tag{0.6}\\\\\n",
    "    E_{i,g,h}&\\in[0, q^E_{i,h}], \\qquad q^E_{i,h} = q^E_i\\cdot\\gamma^E_{i,h}, \\qquad \\forall i \\in \\mathcal{I}^E \\cup \\mathcal{I}^{BP} \\tag{0.7}\\\\ \n",
    "    H_{i,g,h}&\\in[0, q^H_{i,h}], \\qquad q^H_{i,h} = q^H_i\\cdot\\gamma^H_{i,h}, \\qquad \\forall i \\in \\mathcal{I}^E \\cup \\mathcal{I}^{BP} \\tag{0.8}\\\\ \n",
    "    x_{l,h}&\\in[0,q^T_{l,h}], \\qquad q^T_{l,h} = q^T_l\\cdot\\gamma^T_{l,h}. \\tag{0.9}\n",
    "\\end{align}"
   ]
  },
  {
   "cell_type": "markdown",
   "id": "4093b290",
   "metadata": {},
   "source": [
    "## E1"
   ]
  },
  {
   "cell_type": "markdown",
   "id": "d6c66ba7",
   "metadata": {},
   "source": [
    "__Describe the social planner problem in the system of equations in (1).__"
   ]
  },
  {
   "cell_type": "markdown",
   "id": "36173b35",
   "metadata": {},
   "source": [
    "____\n",
    "_Answer:_\n",
    "\n",
    "The social planner maximizes social welfare given by eq. (0.1). Social welfare is defined as consumer benefits minus trade and generation costs on all electricity and district heating zones. Note that fixed costs also enter social welfare, but they do not affect the optimal solution as $W$ is not optimzied with respect to capacities. Eq. (0.2) is the equilibrium constraint on all electricity zones, taking into account trade in electricity into account. Eq. (0.3) is the equilibrium constraint on all district heating markets. Eq. (0.4) are the co-generation constraints for backpressure plants and heat pumps. Finally, equations (0.5)\n",
    "-(0.9) are domain constraints on the control variables.\n"
   ]
  },
  {
   "cell_type": "markdown",
   "id": "b6fac8cb-861d-472f-b40b-66328d4d9961",
   "metadata": {},
   "source": [
    "## E2"
   ]
  },
  {
   "cell_type": "markdown",
   "id": "07b77e6b-ad64-41da-acbd-366fd6cac69f",
   "metadata": {},
   "source": [
    "Assume in the following that Denmark is a small open economy unable to affect international electricity prices. Even in hours where there is a significant surplus generation of domestic renewable electricity, domestic generators are not able to push down international prices. Consequently, you may assume that international electricity prices ($\\lambda^H_{g,h}$ for all $g\\in\\mathcal{G}_F$) are exogenous.\n",
    "\n",
    "__How would you include trade in electricity under the assumption of Denmark being a small open economy?__"
   ]
  },
  {
   "cell_type": "markdown",
   "id": "ddaf4187-1545-439b-9eae-984201477af8",
   "metadata": {},
   "source": [
    "---\n",
    "___Answer:___"
   ]
  },
  {
   "cell_type": "markdown",
   "id": "3d04ae58-2f1c-4e27-9590-b52c1806825b",
   "metadata": {},
   "source": [
    "The are multiple ways to answer this, but one way to is to include the export line $l$ as a representative consumer and the importing line $l'$ as a representative producer. \n",
    "\n",
    "First, we note from the lecture on trade in electricity, that the necessary first-order condition for trade in electricity is given by\n",
    "\\begin{align}\n",
    "   -c_l+\\lambda_{g',h}^E(1-\\text{ll})-\\lambda_{g,h}^E +\\underline{\\theta}_{l,h}^x-\\overline{\\theta}_{l,h}^x=0, \\tag{1.1}\n",
    "\\end{align}\n",
    "where $\\lambda^E_{g,h}$ is the marginal electricity system costs in zone $g$ and hour $h$ and $\\underline{\\theta}_{l,h}^x$ and $\\overline{\\theta}_{l,h}^x$ are the lower and upper bound domain constraint in the tranmission line capacity, respectively.\n",
    "\n",
    "_Consumers/exporting transmission lines:_\n",
    "\n",
    "Now, for the exporting lines ($l$):\n",
    "- We augment the set of electricity consumers ($k$) in area $g\\in\\mathcal{G}_{DK}$ with the exporting lines $l\\in \\mathcal{S}_g$.\n",
    "- We let the maximum hourly load ($L_{k,h}$) be given by $q^T_{l,h}$.\n",
    "- We redefine the willingness-to-pay to avoid load shedding to also be defined over hours (i.e. $u_{k,g,h}$) and let the willingness-to-pay of the new representative consumers be given by $\\lambda^E_{g,h}\\cdot(1-ll)-c_l$. \n",
    "\n",
    "Finally, we know that the first-order condition for optimal load shedding will be given by:\n",
    "\\begin{align}\n",
    "    u_{k,g,h}-\\lambda^E_{g,h}+\\underline{\\theta}_{k,g,h}^{D^E}-\\overline{\\theta}_{k,g,h}^{D^E} &=0.\n",
    "\\end{align}\n",
    "With the assumptions of $u_{k,g,h}=\\lambda^E_{g,h}\\cdot(1-ll)-c_l$ we arrive at eq. (1.1).\n",
    "\n",
    "_Producers/importing transmission lines:_\n",
    "For the importing lines ($l'$):\n",
    "- We augment the set of standard electricity generators $\\mathcal{I}^E$ in area $g\\in\\mathcal{G}_{DK}$ with the importing lines $l'\\in\\mathcal{S}_g$.\n",
    "- We let the hourly generating capacity ($q_{i,h}^E$) be given by $q^T_{l',h}$.\n",
    "- We redefine the marginal generation costs to also be defined over hours (i.e. $c_{i,h}$) and let the generation costs of the new representative producers be given by $\\lambda^E_{g,h}(1-ll)-c_l$. \n",
    "\n",
    "Given that the first-order condition for optimal generation will be given by:\n",
    "\\begin{align}\n",
    "    c_i-\\lambda^E_{g,h}+\\underline{\\theta}_{i,g,h}^{E}-\\overline{\\theta}_{i,g,h}^{E} &=0,\n",
    "\\end{align}\n",
    "the assumptions of $c_{i,h}=\\lambda^E_{g,h}\\cdot(1-ll)-c_l$ implies that we again arrive at eq. (1.1)."
   ]
  },
  {
   "cell_type": "markdown",
   "id": "fa4d7860-140d-459d-a5c1-fcd0a52c71fe",
   "metadata": {},
   "source": [
    "## E3"
   ]
  },
  {
   "cell_type": "markdown",
   "id": "c0db6279-0428-4a77-93bc-c02494d639c3",
   "metadata": {},
   "source": [
    "In this part of the exercise, you are asked to get an overview of ***where*** and ***how*** to retrieve data for an electricity system model definied as above.\n",
    "\n",
    "__Make sure you are able to run and understand the four notebooks located in the folder \"DownloadDataForDK\" in the main directory.__\n",
    "\n",
    "The four scripts are\n",
    "- _A_DownloadFromENTSOe.ipynb_: Here we download data from ENTSO-e's Transparency Platform. We use this platform to download data that contain important model inputs in many electricity system models. This includes hourly load, intermittent generating capacity, and international electricity prices.\n",
    "- _B_DownloadFromEnergyDataService.ipynb_: Here we retrieve hourly transmission capacities between Denmark and neighbouring electricity zones from the Danish TSO's (Energinet's) data platform. \n",
    "- _C_DownloadFromClimateOutlook.ipynb_: Here we download an inventory of representative domestic generators in Denmark. \n",
    "- _D_MakeModelData.ipynb_: Finally, we use the collected data to specify the data inputs used by the model."
   ]
  },
  {
   "cell_type": "markdown",
   "id": "d2285f0b-f564-405c-8e5a-d3d86bbbeb3c",
   "metadata": {},
   "source": [
    "## E4"
   ]
  },
  {
   "cell_type": "markdown",
   "id": "96f40c2a-ee80-4bb5-8093-87c8e827283d",
   "metadata": {},
   "source": [
    "The notebook, _D_MakeModelData.ipynb_, creates a list of excel files in subdirectory \"ModelData\" of \"DownloadDataForDK\". \n",
    "\n",
    "__Use these files to create af modeldatabsase as in the file \"Data/E42_Data.xslx\".__"
   ]
  },
  {
   "cell_type": "markdown",
   "id": "601fe12e-7048-4ac7-aedc-3924103b940a",
   "metadata": {
    "tags": []
   },
   "source": [
    "## E5"
   ]
  },
  {
   "cell_type": "markdown",
   "id": "fcbd7491-aa1f-47e3-80e9-2629cf963f92",
   "metadata": {},
   "source": [
    "Below, you can check that have created the correct model database. "
   ]
  },
  {
   "cell_type": "markdown",
   "id": "3bbfb103-4b96-4c7b-a474-27aed255d24b",
   "metadata": {},
   "source": [
    "For working with the model, we first import some packages and the modelclass:"
   ]
  },
  {
   "cell_type": "code",
   "execution_count": 1,
   "id": "a34c623a-361b-4110-9022-fda615cb07db",
   "metadata": {
    "tags": []
   },
   "outputs": [
    {
     "name": "stdout",
     "output_type": "stream",
     "text": [
      "The autoreload extension is already loaded. To reload it, use:\n",
      "  %reload_ext autoreload\n"
     ]
    }
   ],
   "source": [
    "%run ../stdPackages.ipynb\n",
    "from pyDbs import *\n",
    "from py.modelclass import *\n",
    "from IPython.display import Image\n",
    "figs_path = os.path.join(d['curr'],'Figs')"
   ]
  },
  {
   "cell_type": "markdown",
   "id": "41956076-8a8f-443e-92b4-3f8c122e64a9",
   "metadata": {
    "tags": []
   },
   "source": [
    "Next we load the database:"
   ]
  },
  {
   "cell_type": "code",
   "execution_count": 3,
   "id": "6bbda7c8-5e31-457f-8b34-4418fe214d94",
   "metadata": {
    "tags": []
   },
   "outputs": [],
   "source": [
    "kwargs = {'variables': ['Fundamentals', 'LoadVariables', 'GeneratorsVariables','TransmissionLines','lineVariation'],\n",
    "        'maps': ['LoadMaps','GeneratorsMaps','MarketMaps'],\n",
    "        'variable2D': ['HourlyVariation','MWP_E','OtherMC'],\n",
    "        'scalars': ['Scalars']}\n",
    "path_to_data = os.path.join(d['curr'],'E43','Data','E43_Data.xlsx')\n",
    "db = read.dbFromWB(path_to_data, kwargs)\n",
    "readSets(db)"
   ]
  },
  {
   "cell_type": "markdown",
   "id": "653dce36-8ccb-4bbe-bc05-4e8c07c0f1b9",
   "metadata": {
    "tags": []
   },
   "source": [
    "Convert variables to floats:"
   ]
  },
  {
   "cell_type": "code",
   "execution_count": 4,
   "id": "b8d4a734-3f6b-427a-a236-5642d10b3f97",
   "metadata": {
    "tags": []
   },
   "outputs": [],
   "source": [
    "[db.__setitem__(var,db[var].astype(float).sort_index()) for var in db.getTypes('variable').keys()];"
   ]
  },
  {
   "cell_type": "markdown",
   "id": "ca43cc1a-4b4a-42fe-9af9-58655f923063",
   "metadata": {
    "tags": []
   },
   "source": [
    "We need to read in heat areas manually:"
   ]
  },
  {
   "cell_type": "code",
   "execution_count": 5,
   "id": "29362775-7689-4bd0-aab9-8855d7d84391",
   "metadata": {
    "tags": []
   },
   "outputs": [],
   "source": [
    "db['g_H'] = db['g_E2g_H'].get_level_values('g_H')"
   ]
  },
  {
   "cell_type": "markdown",
   "id": "50abc2d7-ad0c-4272-af3b-4262f8724490",
   "metadata": {
    "tags": []
   },
   "source": [
    "Collect all areas in one:"
   ]
  },
  {
   "cell_type": "code",
   "execution_count": 6,
   "id": "b2408469-1a90-4666-aeee-a27f14f09eb3",
   "metadata": {
    "tags": []
   },
   "outputs": [],
   "source": [
    "db['g'] = db['g_E'].copy()"
   ]
  },
  {
   "cell_type": "markdown",
   "id": "b6526362-f1a2-4120-8506-8be5d607401f",
   "metadata": {},
   "source": [
    "Finally, we will assume that linelosses and trade costs are zero such that the marginal willingness to pay and marginal generation costs of \"transmission lines\" do not have to be corrected. "
   ]
  },
  {
   "cell_type": "markdown",
   "id": "ec848458-e91b-4f5a-a349-ca4170495c5d",
   "metadata": {},
   "source": [
    "To run the model, you finally need to specify the marginal generation costs of electrolyzers, which are described more thoroughly in the home exercise E43-H. Electrolyzer are included in the set $\\mathcal{I}^{HP}$ and are therefore modelled identically to a heat pump. The electrolyzer plant produces hydrogen $(H_2)$ by splitting the hydrogen elements from water $(H_2O)$. It does so using electricity $(E)$ as an energy input and the only production residues are oxygen $(O)$ and heat $(H)$, whith the latter being distributed into the district heating system. \n",
    "\n",
    "Given the setup in E43-H, it is possible to derive, that electrolyzers' marginal willinges to pay for electricity is given by\n",
    "\\begin{align}\n",
    "    \\mu^E \\equiv \\frac{1}{\\nu_H}\\left(c-\\lambda^H-\\lambda^{H_2}\\frac{\\nu_H}{\\nu_{H_2}}\\right).\n",
    "\\end{align}, where\n",
    "- $\\nu_H<0$ is an electricity-to-heat ratio, describing the electricity input per heat output, i.e. $E_h = \\nu_H H_h$. \n",
    "- $\\nu_{H_2}<0$ is an electricity-to-hydrogen ratio, describing the electricity input per hydrogen output, i.e. $E_h = \\nu_{H_2} {H_2}_h$.\n",
    "- $(c)$ is the constant marginal operation and maintanence costs of heat generation.\n",
    "- Finally, $\\lambda^E$, $\\lambda^H$, and $\\lambda^{H_2}$ are the (shadow) prices for the electricity, heat, and hydrogen price, respectively."
   ]
  },
  {
   "cell_type": "markdown",
   "id": "b7f549c5-4eef-48ec-a54b-9c2129d88a42",
   "metadata": {},
   "source": [
    "**Assume that the hydrogen market is represented by a perfectly elastic demand curve and adjust `OtherMC` to account for the marginal hydrogen revenues pr generated unit of $H$. You may assume that the price of hydrogen is 20 DKK/kg $H_2$, which is converted into €/MWh below.**"
   ]
  },
  {
   "cell_type": "code",
   "execution_count": 7,
   "id": "f181d5d7-21ff-4a80-aa28-050693dd14aa",
   "metadata": {
    "tags": []
   },
   "outputs": [],
   "source": [
    "DKK_kg = 20\n",
    "kWh_kg = 39\n",
    "Euro_DKK = 1/7.45\n",
    "MWh_kWh = 1/1000\n",
    "\n",
    "λ_H2 = DKK_kg*(1/kWh_kg)*Euro_DKK*(1/MWh_kWh)"
   ]
  },
  {
   "cell_type": "markdown",
   "id": "50bb4c3e-6102-4791-8d3b-e22240a057d3",
   "metadata": {
    "tags": []
   },
   "source": [
    "___\n",
    "___Answer:___"
   ]
  },
  {
   "cell_type": "markdown",
   "id": "f6c7374e-46d3-42c2-844f-b495831d5e44",
   "metadata": {},
   "source": [
    "From question 1 in the homework assignment exercise 43-H, we know that the marginal hydrogen revenues per unit of $H$ are given by $\\lambda^{H_2}\\frac{\\nu_H}{\\nu_{H_2}}$. To calculate this, we first retrieve the IDs of the electrolyzer plants:"
   ]
  },
  {
   "cell_type": "code",
   "execution_count": 8,
   "id": "67a9ad6c-21f4-4d5a-9066-322e3332bc9b",
   "metadata": {
    "tags": []
   },
   "outputs": [],
   "source": [
    "EP_ids = adj.rc_pd(db['id2tech'],pd.Index(['EP'],name='tech'),name='tech').get_level_values('id')"
   ]
  },
  {
   "cell_type": "markdown",
   "id": "825f1548-55ba-4c9d-afca-e9ce302b332f",
   "metadata": {},
   "source": [
    "Next, we get the $\\nu_H$ parameter:"
   ]
  },
  {
   "cell_type": "code",
   "execution_count": 9,
   "id": "fa427f33-728a-4131-a4b4-cbf804799cea",
   "metadata": {
    "tags": []
   },
   "outputs": [],
   "source": [
    "ν_H = adj.rc_pd(db['E2H'],EP_ids,name='id')"
   ]
  },
  {
   "cell_type": "markdown",
   "id": "fd939aa8-c011-483b-95cd-77ac5e3ff259",
   "metadata": {},
   "source": [
    "And then the $\\nu_{H_2}$ parameter:"
   ]
  },
  {
   "cell_type": "code",
   "execution_count": 10,
   "id": "d9659604-4e57-49a3-a914-a697f1dba0b4",
   "metadata": {
    "tags": []
   },
   "outputs": [],
   "source": [
    "ν_H2 = adj.rc_pd(db['E2HH'],EP_ids,name='id')"
   ]
  },
  {
   "cell_type": "markdown",
   "id": "db20e4a3-e632-487e-8a55-0e8f7999bb33",
   "metadata": {},
   "source": [
    "We can now calculate the marginal hydrogen revenue as:"
   ]
  },
  {
   "cell_type": "code",
   "execution_count": 11,
   "id": "81cb75ed-7d6a-45f9-9a9a-2633b04473cc",
   "metadata": {
    "tags": []
   },
   "outputs": [],
   "source": [
    "H2_UnitRev = λ_H2*ν_H/ν_H2"
   ]
  },
  {
   "cell_type": "markdown",
   "id": "5d8dcdc1-98d4-4e3e-bd9e-c8fa8b7146a0",
   "metadata": {
    "tags": []
   },
   "source": [
    "Now adjust the variable `OtherMC` to account for the hydrogen revenue:"
   ]
  },
  {
   "cell_type": "code",
   "execution_count": 12,
   "id": "ae2d4b9e-11e7-48e0-8358-7ebfc133dffa",
   "metadata": {
    "tags": []
   },
   "outputs": [],
   "source": [
    "db['OtherMC'].loc[:,EP_ids] = -H2_UnitRev"
   ]
  },
  {
   "cell_type": "code",
   "execution_count": 17,
   "id": "b2839a6a-9e6e-49a3-9d8f-fe82ecb54d6c",
   "metadata": {
    "tags": []
   },
   "outputs": [
    {
     "data": {
      "text/plain": [
       "['FuelPrice',\n",
       " 'EmissionIntensity',\n",
       " 'EmissionTax',\n",
       " 'LoadVariation_E',\n",
       " 'Load_E',\n",
       " 'LoadVariation_H',\n",
       " 'Load_H',\n",
       " 'GeneratingCap_E',\n",
       " 'E2H',\n",
       " 'FOM',\n",
       " 'FuelMix',\n",
       " 'GeneratingCap_H',\n",
       " 'E2HH',\n",
       " 'lineMC',\n",
       " 'lineFOM',\n",
       " 'lineCapacity',\n",
       " 'lineVariation',\n",
       " 'c_E2g_E',\n",
       " 'c_H2g_H',\n",
       " 'id2g_H',\n",
       " 'id2tech',\n",
       " 'id2g_E',\n",
       " 'id2hvt',\n",
       " 'tech2modelTech',\n",
       " 'g_H2g',\n",
       " 'g_E2g',\n",
       " 'g_E2g_H',\n",
       " 'CapVariation',\n",
       " 'MWP_E',\n",
       " 'OtherMC',\n",
       " 'MWP_H',\n",
       " 'lineLoss',\n",
       " 'BFt',\n",
       " 'EmissionType',\n",
       " 'c_E',\n",
       " 'h',\n",
       " 'c_H',\n",
       " 'id',\n",
       " 'g_E',\n",
       " 'g_E_alias',\n",
       " 'hvt',\n",
       " 'g_H',\n",
       " 'g']"
      ]
     },
     "execution_count": 17,
     "metadata": {},
     "output_type": "execute_result"
    }
   ],
   "source": [
    "[x for x in db.symbols]"
   ]
  },
  {
   "cell_type": "markdown",
   "id": "659dd4fb-99d4-41ce-9ba1-8515a3e57db7",
   "metadata": {
    "tags": []
   },
   "source": [
    "## E6"
   ]
  },
  {
   "cell_type": "markdown",
   "id": "f45a0eb4-2cc5-40f4-b68d-be0ad09bfb98",
   "metadata": {},
   "source": [
    "Solve the model by running:"
   ]
  },
  {
   "cell_type": "code",
   "execution_count": 23,
   "id": "a1a26a0b-b84f-4b1d-909c-496cb5e88385",
   "metadata": {
    "tags": []
   },
   "outputs": [],
   "source": [
    "m = mSimple(db) # initialize using the database 'db' from above."
   ]
  },
  {
   "cell_type": "code",
   "execution_count": 24,
   "id": "a3745094-1735-44ea-b1d3-91a64671f2b7",
   "metadata": {
    "tags": []
   },
   "outputs": [
    {
     "name": "stdout",
     "output_type": "stream",
     "text": [
      "Solution status 0: Optimization terminated successfully. (HiGHS Status 7: Optimal)\n"
     ]
    }
   ],
   "source": [
    "m()"
   ]
  },
  {
   "cell_type": "code",
   "execution_count": 30,
   "id": "3768c54a-a125-4496-9ce4-bf6f5926be81",
   "metadata": {
    "tags": []
   },
   "outputs": [
    {
     "data": {
      "text/plain": [
       "id\n",
       "id_DK1_Central_EP                      -20.000\n",
       "id_DK1_Central_HPstandard              -21.174\n",
       "id_DK1_Central_HPsurplusheat           -11.008\n",
       "id_DK1_Central_IH                     -360.420\n",
       "id_DK1_LargeDecentral_EP               -18.000\n",
       "id_DK1_LargeDecentral_HPstandard       -18.074\n",
       "id_DK1_LargeDecentral_HPsurplusheat     -1.994\n",
       "id_DK1_LargeDecentral_IH              -142.300\n",
       "id_DK1_SmallDecentral_HPstandard       -66.856\n",
       "id_DK1_SmallDecentral_HPsurplusheat     -1.739\n",
       "id_DK1_SmallDecentral_IH              -476.630\n",
       "id_DK2_Central_HPstandard              -10.137\n",
       "id_DK2_Central_HPsurplusheat            -0.885\n",
       "id_DK2_Central_IH                     -205.200\n",
       "id_DK2_LargeDecentral_HPstandard        -4.412\n",
       "id_DK2_LargeDecentral_HPsurplusheat     -0.167\n",
       "id_DK2_LargeDecentral_IH               -40.000\n",
       "id_DK2_SmallDecentral_HPstandard       -14.465\n",
       "id_DK2_SmallDecentral_IH               -86.100\n",
       "dtype: float64"
      ]
     },
     "execution_count": 30,
     "metadata": {},
     "output_type": "execute_result"
    }
   ],
   "source": [
    "m.db['Generation_E'][m.db['Generation_E']<0].groupby('id').min()"
   ]
  },
  {
   "cell_type": "code",
   "execution_count": null,
   "id": "75c73eb7-4aa9-4965-b4bd-a13332cc106a",
   "metadata": {},
   "outputs": [],
   "source": []
  }
 ],
 "metadata": {
  "kernelspec": {
   "display_name": "Python 3 (ipykernel)",
   "language": "python",
   "name": "python3"
  },
  "language_info": {
   "codemirror_mode": {
    "name": "ipython",
    "version": 3
   },
   "file_extension": ".py",
   "mimetype": "text/x-python",
   "name": "python",
   "nbconvert_exporter": "python",
   "pygments_lexer": "ipython3",
   "version": "3.9.7"
  }
 },
 "nbformat": 4,
 "nbformat_minor": 5
}
