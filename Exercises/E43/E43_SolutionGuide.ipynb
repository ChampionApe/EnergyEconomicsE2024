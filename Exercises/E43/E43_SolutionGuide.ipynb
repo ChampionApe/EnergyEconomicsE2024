{
 "cells": [
  {
   "cell_type": "markdown",
   "id": "f27e76e6-a72a-44e4-aa9f-32656ae74dc7",
   "metadata": {},
   "source": [
    "In this exercise we will consider an electrolyzer plant that produces hydrogen $(H_2)$ by splitting the hydrogen elements from water $(H_2O)$. It does so using electricity $(E)$ as an energy input and the only production residues are oxygen $(O)$ and heat $(H)$. In the following, we consider a general scenario where the electrolyzer is connected to district heating network such that the residual heat is potentially utilized. This is an element in the Danish government's Power-To-X strategy ([see here](https://kefm.dk/Media/637751860733099677/Regeringens%20strategi%20for%20Power-to-X.pdf), only in Danish).\n",
    "\n",
    "Firstly, we will assume that the production technology of the electrolyzer is characterized by\n",
    "\n",
    "- a heat generating capacity of $q_H$.\n",
    "- an electricity-to-heat ratio ($\\nu_H<0$), describing the electricity input per heat output, i.e. $E_h = \\nu_H H_h$. Note here, we think of the electricity decision as an generation decision, i.e. $E\\leq0$.\n",
    "- an electricity-to-hydrogen ratio ($\\nu_{H_2}<0$), describing the electricity input per hydrogen output, i.e. $E_h = \\nu_{H_2} {H_2}_h$.\n",
    "- constant marginal operation and maintanence costs of heat generation $(c)$.\n",
    "\n",
    "Finally, we let $\\lambda^E$, $\\lambda^H$, and $\\lambda^{H_2}$ for the electricity, heat, and hydrogen price, respectively. "
   ]
  },
  {
   "cell_type": "markdown",
   "id": "3988a212-a1d1-4d36-b14a-59206648c960",
   "metadata": {
    "tags": []
   },
   "source": [
    "# Part 1: Analytical exercises"
   ]
  },
  {
   "cell_type": "markdown",
   "id": "0aa6d4b6-d973-4027-834d-793347b33993",
   "metadata": {},
   "source": [
    "## E1.1 "
   ]
  },
  {
   "cell_type": "markdown",
   "id": "7c6aa224-e8c1-4b27-8a9c-e085d0acc435",
   "metadata": {},
   "source": [
    "**Show that the profit maximization problem of the plant manager is given by**\n",
    "\n",
    "\\begin{align}\n",
    "    \\max_{H} & \\left(\\lambda^H+\\lambda^{H_2}\\frac{\\nu_H}{\\nu_{H_2}}-c+\\frac{\\lambda^E}{v_H}\\right) H \\\\\n",
    "    & \\text{subject to } \\\\\n",
    "    H&\\in[0,q_H]\n",
    "\\end{align}\n",
    "\n",
    "**and explain each term in the profit function.**\n",
    "\n",
    "*Hint: You may think of the electrolyzer as a heat pump, only that the electrolyzer also produces hydrogen besides heat.*"
   ]
  },
  {
   "cell_type": "markdown",
   "id": "8ade174d-faef-4f7c-9528-f092749118ea",
   "metadata": {},
   "source": [
    "---\n",
    "___Answer:___\n",
    "\n"
   ]
  },
  {
   "cell_type": "markdown",
   "id": "f7a925a3-b702-4256-8552-92a4d6c4827a",
   "metadata": {},
   "source": [
    "The plant manager faces the static profit maximization problem:\n",
    "\\begin{align}\n",
    "    \\max_{E,H,H_2} & \\lambda^HH+\\lambda^{H_2}H_2+\\lambda^EE-cH \\tag{1.1.1} \\\\\n",
    "    &\\text{subject to} \\\\\n",
    "    E &= \\nu_H H \\tag{1.1.2}\\\\\n",
    "    E &= \\nu_{H_2} H_2 \\tag{1.1.3}\\\\\n",
    "    H&\\in[0,q_H] \\tag{1.1.4}\\\\\n",
    "\\end{align}\n",
    "\n",
    "The idea is to substitute the electricity-to-heat and electricity-to-hydrogen constraints in (1.1.2) and (1.1.3) into (1.1.1) such that the profit maximization problem depends solely on the heat generation decision $(H)$. First, from (1.1) we directly have that $E=\\nu_H H$. Second, from equalizing (1.1.1) and (1.1.2), we can describe the joint production between heat and hydrogen as $H_2 = \\frac{\\nu_H}{\\nu_{H_2}}H$. Substituting into these two conditions into (1.1.) yields the following maximization problem:\n",
    "\n",
    "\\begin{align}\n",
    "    \\max_{H} & \\left(\\lambda^H+\\lambda^{H_2}\\frac{\\nu_H}{\\nu_{H_2}}-c+\\frac{\\lambda^E}{v_H}\\right) H \\\\\n",
    "    & \\text{subject to } \\\\\n",
    "    H&\\in[0,q_H]\n",
    "\\end{align}\n",
    "\n",
    "We note that for each unit of generated heat, the electrolyzer\n",
    "- receives the unit price $\\lambda^H$ for the heating services, such that $\\lambda^{H}H$ are revenues from heat generation.\n",
    "- generates $nu_H/\\nu_{H_2}$ units of hydrogen at the unit price $\\lambda^{H_2}$. Hence, $\\lambda^{H_2}\\frac{nu_H}{\\nu_{H_2}}H\\geq0$ are hydrogen revenues.\n",
    "- incurs the generation costs $-cH\\leq0$, excl. electricity costs.\n",
    "- it uses $-1/\\nu_{H}$ units of electricity at the unit costs $\\lambda^E$. Hence, $\\lambda^E\\frac{1}{\\nu_{H}}H$ are the electricity costs. Note that $\\nu_H<0$, so that $\\lambda^E\\frac{1}{\\nu_{H}}H\\leq0$ given $\\lambda^E\\geq0$."
   ]
  },
  {
   "cell_type": "markdown",
   "id": "5f4f47f2-9b74-45bd-bf65-14d22b049324",
   "metadata": {},
   "source": [
    "## E1.2"
   ]
  },
  {
   "cell_type": "markdown",
   "id": "33a7711a-16ec-4725-85d4-c4304e1fbfb2",
   "metadata": {
    "tags": []
   },
   "source": [
    "__Set up the Lagrangian for the profit maximization problem and show that the necessary and sufficient first order conditions (FOCs) are__"
   ]
  },
  {
   "cell_type": "markdown",
   "id": "6e60d9cb-999f-4d68-8bd2-c52d933292ab",
   "metadata": {},
   "source": [
    "---\n",
    "___Answer:___\n",
    "\n",
    "The Lagrangian is\n",
    "\n",
    "\\begin{align}\n",
    "    \\mathcal{L} = \\left(\\frac{\\lambda^E}{v_H}+\\lambda^H+\\lambda^{H_2}\\frac{\\nu_H}{\\nu_{H_2}}-c\\right) H + \\overline{\\theta}(q_H-H)+\\underline{\\theta}(H)\n",
    "\\end{align}\n",
    "\n",
    "The first order condition is\n",
    "\\begin{align}\n",
    "    \\frac{\\partial \\mathcal{L}}{\\partial H}=0: \\quad \\lambda^H+\\lambda^{H_2}\\frac{\\nu_H}{\\nu_{H_2}}-c+\\frac{\\lambda^E}{v_H}+\\underline{\\theta}-\\underline{\\theta} = 0 \\tag{1.2.1}\n",
    "\\end{align}\n",
    "\n",
    "Together with the complementary-slackness conditions\n",
    "\n",
    "\\begin{align}\n",
    "    \\overline{\\theta}(q-H) &= 0, & q-H\\geq&0, & \\overline{\\theta}^H\\geq& 0 \\tag{1.2.2}\\\\ \n",
    "    \\underline{\\theta}^H H &= 0, & H\\geq& 0, & \\underline{\\theta}^H\\geq& 0. \\tag{1.2.3}\n",
    "\\end{align}"
   ]
  },
  {
   "cell_type": "markdown",
   "id": "45661592-f516-464d-b1e9-29de03fb17b5",
   "metadata": {},
   "source": [
    "## E1.3"
   ]
  },
  {
   "cell_type": "markdown",
   "id": "bcf524cc-ee28-4d57-aa48-82f3a6210b22",
   "metadata": {},
   "source": [
    "__Provide and intuition for the conditions above and derive the electrolyzer's marginal willingness to pay for electricity $(\\mu^E)$.__"
   ]
  },
  {
   "cell_type": "markdown",
   "id": "68a6e01c-2c9a-469d-aefb-a11a988fce39",
   "metadata": {},
   "source": [
    "---\n",
    "___Answer:___\n",
    "\n",
    "From the first order condition above, we can characterize the same three solutions:\n",
    "\n",
    "- <u>Lower bound:</u> The electrolyzer is not profitable:\n",
    "    - Marginal revenues are smaller than marginal generation costs: $\\lambda^H+\\lambda^{H_2}\\frac{\\nu_H}{\\nu_{H_2}}<c-\\frac{\\lambda^E}{v_H}$.\n",
    "    - Generation is set at $H=E=H_2=0$.\n",
    "    - The shadow costs of the upper bound is zero ($\\overline{\\theta}^H$=0).\n",
    "    - The shadow cost of the lower bound is positive $(\\underline{\\theta}^H>0)$ and given by $\\underline{\\theta}^H=c-\\frac{\\lambda^E}{v_H}-\\lambda^H-\\lambda^{H_2}\\frac{\\nu_H}{\\nu_{H_2}}$.\n",
    "- <u>Interior solution:</u> The manager of the electrolyzer is indifferent:\n",
    "    - Marginal revenues are exactly equal to marginal generation costs: $\\lambda^H+\\lambda^{H_2}\\frac{\\nu_H}{\\nu_{H_2}}=c-\\frac{\\lambda^E}{v_H}$.\n",
    "    - Generation is set within the capacity constraints $H\\in[0,q_H]$, $E\\in[\\nu_Hq_H,0]$, and $H_2\\in\\left[0,\\frac{\\nu_H}{\\nu_{H_2}}q_H\\right]$.\n",
    "    - The shadow costs of the upper bound is zero ($\\overline{\\theta}^H$=0).\n",
    "    - The shadow costs of the lower bound is zero ($\\underline{\\theta}^H$=0).\n",
    "- <u>Upper bound:</u> The electrolyzer is profitable:\n",
    "    - Marginal revenues are larger than marginal generation costs: $\\lambda^H+\\lambda^{H_2}\\frac{\\nu_H}{\\nu_{H_2}}>c-\\frac{\\lambda^E}{v_H}$.\n",
    "    - Generation is set at $H=q_H>0$, $E=\\nu_Hq_H<0$, and $H_2=\\frac{\\nu_H}{\\nu_{H_2}}q_H>0$.\n",
    "    - The shadow costs of the upper bound is positive and given by $\\overline{\\theta}^H=\\lambda^H+\\lambda^{H_2}\\frac{\\nu_H}{\\nu_{H_2}}-c+\\frac{\\lambda^E}{v_H}>0$.\n",
    "    - The shadow costs of the lower bound is zero ($\\underline{\\theta}^H$=0).\n",
    "\n",
    "Given the inution above, we can derive from the condition in (1.2.1) (by isolating for $\\lambda^E$) that the marginal willingness to pay for electricity is\n",
    "\n",
    "\\begin{align}\n",
    "    \\mu^E = \\nu_H\\left(c-\\lambda^H-\\lambda^{H_2}\\frac{\\nu_H}{\\nu_{H_2}}\\right)\n",
    "\\end{align}"
   ]
  },
  {
   "cell_type": "markdown",
   "id": "91035264-ecfd-4f47-8272-b210ab972ed2",
   "metadata": {},
   "source": [
    "## E1.4"
   ]
  },
  {
   "cell_type": "markdown",
   "id": "649a02fe-248d-43b5-aacb-1668e317bfb7",
   "metadata": {
    "tags": []
   },
   "source": [
    "__Given your answer to [**E1.3**](#E1.3) provide and expression for the electrolyzer's electricity demand function.__\n",
    "\n",
    "\n",
    "*Note: Remember that we think of the electricity input as a generation decision, i.e. $E<0$.* "
   ]
  },
  {
   "cell_type": "markdown",
   "id": "a7fecdb4-7c9e-42ca-926a-b2fc60bf3170",
   "metadata": {},
   "source": [
    "---\n",
    "___Answer:___\n",
    "\n",
    "In a similar vain the intuition provided in [**E1.3**](#E1.3), we can characterize the electrolyzer's electricity demand by the three cases:\n",
    "\n",
    "- <u>Lower bound:</u> The electrolyzer is not profitable:\n",
    "    - The electricity price is higher than the marginal willingness to pay $(\\lambda^E>\\mu^E)$\n",
    "    - The electrolyzer does not demand any electricity and sets $E=0$.\n",
    "- <u>Interior solution:</u> The manager of the electrolyzer is indifferent:\n",
    "    - The electricity price is equal to the marginal willingness to pay $(\\lambda^E=\\mu^E)$\n",
    "    - The electrolyzer consumes electricity within its capacity constraints $E\\in[\\nu_Hq_H,0]$.\n",
    "- <u>Upper bound:</u> The electrolyzer is profitable:\n",
    "    - The electricity price is lower than the marginal willingness to pay $(\\lambda^E<\\mu^E)$\n",
    "    - The electrolyzer consumes electricity at its full input capacity $E=\\nu_Hq_H<0$.\n",
    "    \n",
    "Hence, the electrolyzers demand function is\n",
    "\n",
    "\\begin{align}\n",
    "    -E \\begin{cases}\n",
    "    =0, &\\text{if } (\\lambda^E>\\mu^E) \\\\\n",
    "    \\in[\\nu_Hq_H,0], &\\text{if }(\\lambda^E=\\mu^E), \\\\\n",
    "    =\\nu_Hq_H, &\\text{if }(\\lambda^E<\\mu^E)\n",
    "    \\end{cases}\n",
    "\\end{align}"
   ]
  },
  {
   "cell_type": "markdown",
   "id": "579db40c-cd25-49b6-b8d4-445d4abe501c",
   "metadata": {
    "tags": []
   },
   "source": [
    "# Part 2: Data and numerical model exercises"
   ]
  },
  {
   "cell_type": "markdown",
   "id": "fb4bb479-4002-4e02-923d-691e86b0b3d0",
   "metadata": {},
   "source": [
    "For the numerical part we will be working with a model adapted to Danish conditions. That is, the model features both domestic power and heat markets as well as trade in electricity with foreign electricity markets. We note that:\n",
    "- __Electricity zones__: Electricity zones are denoted by $g\\in\\mathcal{G}$. Furthermore:\n",
    "    - There are two domestic electricity zones denoted by $g\\in\\mathcal{G}_{DK}\\{\\text{DK1},\\text{DK2}\\}$.\n",
    "    - There are five international electricity zones denoted by $g\\in\\mathcal{G}_F=\\{\\text{DELU},\\text{NL},\\text{NO2},\\text{SE3},\\text{SE4}\\}$, where\n",
    "        - $\\text{DELU}=$Germany and Luxembourg,\n",
    "        - $\\text{NL}=$Netherlands,\n",
    "        - $\\text{NO2}=$the Southern electricity zone in Norway, and \n",
    "        - $\\text{SE3}$ and $\\text{SE4}$ are two separate zones in Sweden.\n",
    "- __District heating areas__: In each of the domestic electricity zones there are three district heat areas (i.e. $3\\times 2=6$ in total). The district heating areas are denoted by $d$ and they are distinguished according to central areas, large decentral areas, and small decentral areas. Hence, we have \n",
    "\n",
    "    $d\\in\\mathcal{D}=$$\\{\\text{DK1_Central},\\text{DK1_LargeDecentral},\\text{DK1_SmallDecentral},\\text{DK2_Central},\\text{DK2_LargeDecentral},\\text{DK2_SmallDecentral}\\}$\n",
    "    - For notational clarity we also introduce the many-to-one mapping, $\\mathcal{D}_{H\\rightarrow E}(\\mathcal{D},\\mathcal{G})$, which specifies which elements of $\\mathcal{D}$ belongs to each element in $\\mathcal{G}$.\n",
    "- __Generators__ are denoted by $i$, where \n",
    "    - $\\mathcal{I}^E$ are the set of standard electricity producing plants.\n",
    "    - $\\mathcal{I}^{BP}$ are the set of back-pressure plants.\n",
    "    - $\\mathcal{I}^{HP}$ are the set of heat-pump-like plants.\n",
    "- __Consumers__ are denoted by $k$, where \n",
    "    - $\\mathcal{K}^E$ is the set electricity consumers.\n",
    "    - $\\mathcal{K}^H$ is the set of heat consumers.\n",
    "    \n",
    "Otherwise, the notation is identical to the lecture note on Models in Energy Economics.\n",
    "    \n",
    "We can now define the social planner's problem as:"
   ]
  },
  {
   "cell_type": "markdown",
   "id": "4f973ec6-343f-4ec5-953e-106370ed7c36",
   "metadata": {},
   "source": [
    "\\begin{align}\n",
    "    \\max_{D^E_{k,g,h},E_{i,g,h},x_{l,h},D^H_{k,d,h},H_{k,i,d,h}}\\mbox{ }W &= \\sum_{h,g} \\left[\\sum_{k\\in\\mathcal{K}^E}\\left(u_{k,g}\\cdot D^E_{k,g,h}\\right)-\\sum_{i\\in\\mathcal{I}^E \\cup \\mathcal{I}^{BP} }\\left(c_i\\cdot E_{i,g,h}+\\text{FOM}_i\\cdot q_i^E\\right)\\right] \\\\ \n",
    "                &-\\sum_l\\left(\\text{FOM}_l\\cdot  q^T_l+\\sum_hc_l\\cdot x_{l,h}\\right) \\tag{2.0.1} \\\\ \n",
    "                &+\\sum_{h,d} \\left[\\sum_{k\\in\\mathcal{K}^H}\\left(u_{k,d}\\cdot D^H_{k,d,h}\\right) - \\sum_{i\\in\\mathcal{I}^H\\cup\\mathcal{I}^{HP}}\\left(c_i H_{i,d,h} + FOM_i\\cdot q_i^H\\right)\\right]\\\\\n",
    "                \\\\\n",
    "                & \\text{subject to} \\\\\n",
    "                \\\\\n",
    "    \\sum_{k\\in\\mathcal{K}^E}D^E_{k,g,h} &=\\sum_{i\\in\\mathcal{I}^E\\cup \\mathcal{I}^{BP}\\cup\\mathcal{I}^{HP}}E_{i,g,h}+\\sum_{l\\in\\mathcal{S}_{g}}\\left[(1-\\text{ll})\\cdot x_{l',h}-x_{l,h}\\right] \\tag{2.0.2} \\\\\n",
    "    \\sum_{k\\in\\mathcal{K}^H}D^H_{k,d,h} &=\\sum_{i\\in\\mathcal{I}^H\\cup\\mathcal{I}^{BP}\\cup\\mathcal{I}^{HP}} H_{i,d,h} \\tag{2.0.3}\\\\\n",
    "    E_{i,g,h} &=\\sum_{g_H\\in\\mathcal{D}_{H \\rightarrow E}} \\nu_i H_{i,d,h}, \\qquad \\forall i\\in\\mathcal{I}^{BP}\\cup\\mathcal{I}^{HP} \\tag{2.0.4} \\\\\n",
    "    D^E_{k,g,h} &\\in[0,L^E_{k,h}], \\qquad \\forall k \\in \\mathcal{K}^E \\tag{2.0.5}\\\\ \n",
    "    D^H_{k,d,h} &\\in[0,L^H_{k,h}], \\qquad \\forall k \\in \\mathcal{K}^H \\tag{2.0.6}\\\\\n",
    "    E_{i,g,h}&\\in[0, q^E_{i,h}], \\qquad q^E_{i,h} = q^E_i\\cdot\\gamma^E_{i,h}, \\qquad \\forall i \\in \\mathcal{I}^E \\cup \\mathcal{I}^{BP} \\tag{2.0.7}\\\\ \n",
    "    H_{i,g,h}&\\in[0, q^H_{i,h}], \\qquad q^H_{i,h} = q^H_i\\cdot\\gamma^H_{i,h}, \\qquad \\forall i \\in \\mathcal{I}^E \\cup \\mathcal{I}^{BP} \\tag{2.0.8}\\\\ \n",
    "    x_{l,h}&\\in[0,q^T_{l,h}], \\qquad q^T_{l,h} = q^T_l\\cdot\\gamma^T_{l,h}. \\tag{2.0.0}\n",
    "\\end{align}"
   ]
  },
  {
   "cell_type": "markdown",
   "id": "b6fac8cb-861d-472f-b40b-66328d4d9961",
   "metadata": {},
   "source": [
    "## E2.1"
   ]
  },
  {
   "cell_type": "markdown",
   "id": "07b77e6b-ad64-41da-acbd-366fd6cac69f",
   "metadata": {},
   "source": [
    "Assume in the following that Denmark is a small open economy unable to affect international electricity prices. Even in hours where there is a significant surplus generation of renewable electricity, domestic generators are not able to push down international prices. Consequently, you may assume that international electricity prices ($\\lambda^H_{g,h}$ for all $g\\in\\mathcal{G}_F$) are exogenous.\n",
    "\n",
    "__How would you include trade in electricity under the assumption of a small open economy?__"
   ]
  },
  {
   "cell_type": "markdown",
   "id": "ddaf4187-1545-439b-9eae-984201477af8",
   "metadata": {},
   "source": [
    "---\n",
    "___Answer:___"
   ]
  },
  {
   "cell_type": "markdown",
   "id": "3d04ae58-2f1c-4e27-9590-b52c1806825b",
   "metadata": {},
   "source": [
    "The are multiple ways to answer this, but one way to is include the export line $l$ as a representative consumer and the importing line $l'$ as a representative producer. \n",
    "\n",
    "First, we note from lecture 5, that the necessary first-order condition for trade in electricity is given by\n",
    "\\begin{align}\n",
    "   -c_l+\\lambda_{g',h}^E(1-\\text{ll})-\\lambda_{g,h}^E +\\underline{\\theta}_{l,h}^x-\\overline{\\theta}_{l,h}^x=0, \\tag{2.1.1}\n",
    "\\end{align}\n",
    "where $\\lambda^E_{g,h}$ is the marginal electricity system costs in zone $g$ and hour $h$ and $\\underline{\\theta}_{l,h}^x$ and $\\overline{\\theta}_{l,h}^x$ are the lower and upper bound domain constraint in the tranmission line capacity, respectively.\n",
    "\n",
    "_Consumers/exporting transmission lines:_\n",
    "\n",
    "Now, for the exporting lines ($l$):\n",
    "- We augment the set of electricity consumers ($k$) in area $g\\in\\mathcal{G}_{DK}$ with the exporting lines $l\\in \\mathcal{S}_g$.\n",
    "- We let the maximum hourly load ($L_{k,h}$) be given by $q^T_{l,h}$.\n",
    "- We redefine the willingness-to-pay to avoid load shedding to also be defined over hours (i.e. $u_{k,g,h}$) and let the willingness-to-pay of the new representative consumers be given by $\\lambda^E_{g,h}\\cdot(1-ll)-c_l$. \n",
    "\n",
    "From lecture 4, we now that the first-order condition for optimal load shedding will be given by:\n",
    "\\begin{align}\n",
    "    u_{k,g,h}-\\lambda^E_{g,h}+\\underline{\\theta}_{k,g,h}^{D^E}-\\overline{\\theta}_{k,g,h}^{D^E} &=0.\n",
    "\\end{align}\n",
    "With the assumptions of $u_{k,g,h}=\\lambda^E_{g,h}\\cdot(1-ll)-c_l$ we arrive at eq. (2.1.1).\n",
    "\n",
    "_Producers/importing transmission lines:_\n",
    "For the importing lines ($l'$):\n",
    "- We augment the set of standard electricity generators $\\mathcal{I}^E$ in area $g\\in\\mathcal{G}_{DK}$ with the importing lines $l'\\in\\mathcal{S}_g$.\n",
    "- We let the hourly generating capacity ($q_{i,h}^E$) be given by $q^T_{l',h}$.\n",
    "- We redefine the marginal generation costs to also be defined over hours (i.e. $c_{i,h}$) and let the generation costs of the new representative producers be given by $\\lambda^E_{g,h}(1-ll)-c_l$. \n",
    "\n",
    "From lecture 4, we now that the first-order condition for optimal generation will be given by:\n",
    "\\begin{align}\n",
    "    c_i-\\lambda^E_{g,h}+\\underline{\\theta}_{i,g,h}^{E}-\\overline{\\theta}_{i,g,h}^{E} &=0.\n",
    "\\end{align}\n",
    "With the assumptions of $c_{i,h}=\\lambda^E_{g,h}\\cdot(1-ll)-c_l$ we again arrive at eq. (2.1.1)."
   ]
  },
  {
   "cell_type": "markdown",
   "id": "fa4d7860-140d-459d-a5c1-fcd0a52c71fe",
   "metadata": {},
   "source": [
    "## E2.2"
   ]
  },
  {
   "cell_type": "markdown",
   "id": "c0db6279-0428-4a77-93bc-c02494d639c3",
   "metadata": {},
   "source": [
    "An important of this exercise is to get an overview of ***where*** and ***how*** to retrieve data for an electricity system model definied as above.\n",
    "\n",
    "__In this exercise, you are asked to make sure you are able to run and understand the four notebooks located in the folder \"DownloadDataForDK\" in the main directory.__\n",
    "\n",
    "The four scripts are\n",
    "- _A_DownloadFromENTSOe.ipynb_: Here we download data from ENTSO-e's Transparency Platform. We use this platform to download data that contain important model inputs in many electricity system models. This includes hourly load, intermittent generating capacity, and international electricity prices.\n",
    "- _B_DownloadFromEnergyDataService.ipynb_: Here we retrieve hourly transmission capacities between Denmark and neighbouring electricity zones from the Danish TSO's (Energinet's) data platform. \n",
    "- _C_DownloadFromClimateOutlook.ipynb_: Here we download an inventory of representative domestic generators in Denmark. \n",
    "- _D_MakeModelData.ipynb_: Finally, we use the collected data to specify the data inputs used by the model."
   ]
  },
  {
   "cell_type": "markdown",
   "id": "d2285f0b-f564-405c-8e5a-d3d86bbbeb3c",
   "metadata": {},
   "source": [
    "## E2.3"
   ]
  },
  {
   "cell_type": "markdown",
   "id": "96f40c2a-ee80-4bb5-8093-87c8e827283d",
   "metadata": {},
   "source": [
    "The notebook, _D_MakeModelData.ipynb_, creates a list of excel files in subdirectory \"ModelData\" of \"DownloadDataForDK\". \n",
    "\n",
    "__Use these files to create af modeldatabsase as in the file \"Data/E42_Data.xslx\".__"
   ]
  },
  {
   "cell_type": "markdown",
   "id": "601fe12e-7048-4ac7-aedc-3924103b940a",
   "metadata": {
    "tags": []
   },
   "source": [
    "## E2.4"
   ]
  },
  {
   "cell_type": "markdown",
   "id": "fcbd7491-aa1f-47e3-80e9-2629cf963f92",
   "metadata": {},
   "source": [
    "Below, you can check that have created the correct model database. "
   ]
  },
  {
   "cell_type": "markdown",
   "id": "3bbfb103-4b96-4c7b-a474-27aed255d24b",
   "metadata": {},
   "source": [
    "For working with the model, we first import some packages and the modelclass:"
   ]
  },
  {
   "cell_type": "code",
   "execution_count": 1,
   "id": "a34c623a-361b-4110-9022-fda615cb07db",
   "metadata": {
    "tags": []
   },
   "outputs": [],
   "source": [
    "%run ../stdPackages.ipynb\n",
    "from pyDbs import *\n",
    "from py.modelclass import *\n",
    "from IPython.display import Image\n",
    "figs_path = os.path.join(d['curr'],'Figs')"
   ]
  },
  {
   "cell_type": "markdown",
   "id": "41956076-8a8f-443e-92b4-3f8c122e64a9",
   "metadata": {
    "tags": []
   },
   "source": [
    "Next we load the database:"
   ]
  },
  {
   "cell_type": "code",
   "execution_count": 2,
   "id": "6bbda7c8-5e31-457f-8b34-4418fe214d94",
   "metadata": {
    "tags": []
   },
   "outputs": [],
   "source": [
    "kwargs = {'variables': ['Fundamentals', 'LoadVariables', 'GeneratorsVariables','TransmissionLines','lineVariation'],\n",
    "        'maps': ['LoadMaps','GeneratorsMaps','MarketMaps'],\n",
    "        'variable2D': ['HourlyVariation','MWP_E','OtherMC'],\n",
    "        'scalars': ['Scalars']}\n",
    "path_to_data = os.path.join(d['curr'],'Data','E42_Data.xlsx')\n",
    "db = read.dbFromWB(path_to_data, kwargs)\n",
    "readSets(db)"
   ]
  },
  {
   "cell_type": "markdown",
   "id": "653dce36-8ccb-4bbe-bc05-4e8c07c0f1b9",
   "metadata": {
    "tags": []
   },
   "source": [
    "Convert variables to floats:"
   ]
  },
  {
   "cell_type": "code",
   "execution_count": 3,
   "id": "b8d4a734-3f6b-427a-a236-5642d10b3f97",
   "metadata": {
    "tags": []
   },
   "outputs": [],
   "source": [
    "[db.__setitem__(var,db[var].astype(float).sort_index()) for var in db.getTypes('variable').keys()];"
   ]
  },
  {
   "cell_type": "markdown",
   "id": "ca43cc1a-4b4a-42fe-9af9-58655f923063",
   "metadata": {
    "tags": []
   },
   "source": [
    "We need to read in heat areas manually:"
   ]
  },
  {
   "cell_type": "code",
   "execution_count": 4,
   "id": "29362775-7689-4bd0-aab9-8855d7d84391",
   "metadata": {
    "tags": []
   },
   "outputs": [],
   "source": [
    "db['g_H'] = db['g_E2g_H'].get_level_values('g_H')"
   ]
  },
  {
   "cell_type": "markdown",
   "id": "50abc2d7-ad0c-4272-af3b-4262f8724490",
   "metadata": {
    "tags": []
   },
   "source": [
    "Collect all areas in one:"
   ]
  },
  {
   "cell_type": "code",
   "execution_count": 5,
   "id": "b2408469-1a90-4666-aeee-a27f14f09eb3",
   "metadata": {},
   "outputs": [],
   "source": [
    "db['g'] = db['g_E'].copy()"
   ]
  },
  {
   "cell_type": "markdown",
   "id": "b6526362-f1a2-4120-8506-8be5d607401f",
   "metadata": {},
   "source": [
    "Finally, we will assume that linelosses and trade are zero such that the marginal willingness to pay and marginal generation costs of \"transmission lines\" does not have to be corrected. "
   ]
  },
  {
   "cell_type": "markdown",
   "id": "ec848458-e91b-4f5a-a349-ca4170495c5d",
   "metadata": {},
   "source": [
    "To run the model, we finally need to specify the marginal generations costs of electrolyzers."
   ]
  },
  {
   "cell_type": "markdown",
   "id": "b7f549c5-4eef-48ec-a54b-9c2129d88a42",
   "metadata": {},
   "source": [
    "**Adjust `OtherMC` to account for the marginal hydrogen revenues pr generated unit of $H$. You may assume that the price of hydrogen is 20 DKK/kg $H_2$, which is converted into €/MWh below.**"
   ]
  },
  {
   "cell_type": "code",
   "execution_count": 9,
   "id": "f181d5d7-21ff-4a80-aa28-050693dd14aa",
   "metadata": {
    "tags": []
   },
   "outputs": [],
   "source": [
    "DKK_kg = 20\n",
    "kWh_kg = 39\n",
    "Euro_DKK = 1/7.45\n",
    "MWh_kWh = 1/1000\n",
    "\n",
    "λ_H2 = DKK_kg*(1/kWh_kg)*Euro_DKK*(1/MWh_kWh)"
   ]
  },
  {
   "cell_type": "markdown",
   "id": "50bb4c3e-6102-4791-8d3b-e22240a057d3",
   "metadata": {
    "tags": []
   },
   "source": [
    "___\n",
    "___Answer:___"
   ]
  },
  {
   "cell_type": "markdown",
   "id": "f6c7374e-46d3-42c2-844f-b495831d5e44",
   "metadata": {},
   "source": [
    "From question [**E1.1**](#E1.1), we know that the marginal hydrogen revenues per unit of $H$ are given by $\\lambda^{H_2}\\frac{\\nu_H}{\\nu_{H_2}}$. To calculate this, we first retrieve the IDs of the electrolyzer plants:"
   ]
  },
  {
   "cell_type": "code",
   "execution_count": 10,
   "id": "67a9ad6c-21f4-4d5a-9066-322e3332bc9b",
   "metadata": {
    "tags": []
   },
   "outputs": [],
   "source": [
    "EP_ids = adj.rc_pd(db['id2tech'],pd.Index(['EP'],name='tech'),name='tech').get_level_values('id')"
   ]
  },
  {
   "cell_type": "markdown",
   "id": "825f1548-55ba-4c9d-afca-e9ce302b332f",
   "metadata": {},
   "source": [
    "Next, we get the $\\nu_H$ parameter:"
   ]
  },
  {
   "cell_type": "code",
   "execution_count": 11,
   "id": "fa427f33-728a-4131-a4b4-cbf804799cea",
   "metadata": {
    "tags": []
   },
   "outputs": [],
   "source": [
    "ν_H = adj.rc_pd(db['E2H'],EP_ids,name='id')"
   ]
  },
  {
   "cell_type": "markdown",
   "id": "fd939aa8-c011-483b-95cd-77ac5e3ff259",
   "metadata": {},
   "source": [
    "And then the $\\nu_{H_2}$ parameter:"
   ]
  },
  {
   "cell_type": "code",
   "execution_count": 12,
   "id": "d9659604-4e57-49a3-a914-a697f1dba0b4",
   "metadata": {
    "tags": []
   },
   "outputs": [],
   "source": [
    "ν_H2 = adj.rc_pd(db['E2HH'],EP_ids,name='id')"
   ]
  },
  {
   "cell_type": "markdown",
   "id": "db20e4a3-e632-487e-8a55-0e8f7999bb33",
   "metadata": {},
   "source": [
    "We can now calculate the marginal hydrogen revenue as:"
   ]
  },
  {
   "cell_type": "code",
   "execution_count": 13,
   "id": "81cb75ed-7d6a-45f9-9a9a-2633b04473cc",
   "metadata": {
    "tags": []
   },
   "outputs": [],
   "source": [
    "H2_UnitRev = λ_H2*ν_H/ν_H2"
   ]
  },
  {
   "cell_type": "markdown",
   "id": "5d8dcdc1-98d4-4e3e-bd9e-c8fa8b7146a0",
   "metadata": {
    "tags": []
   },
   "source": [
    "Now adjust the variable `OtherMC` to account for the hydrogen revenue:"
   ]
  },
  {
   "cell_type": "code",
   "execution_count": 14,
   "id": "ae2d4b9e-11e7-48e0-8358-7ebfc133dffa",
   "metadata": {
    "tags": []
   },
   "outputs": [],
   "source": [
    "db['OtherMC'].loc[:,EP_ids] = -H2_UnitRev"
   ]
  },
  {
   "cell_type": "markdown",
   "id": "659dd4fb-99d4-41ce-9ba1-8515a3e57db7",
   "metadata": {
    "tags": []
   },
   "source": [
    "## E2.5"
   ]
  },
  {
   "cell_type": "markdown",
   "id": "f45a0eb4-2cc5-40f4-b68d-be0ad09bfb98",
   "metadata": {},
   "source": [
    "Solve the model by running:"
   ]
  },
  {
   "cell_type": "code",
   "execution_count": 15,
   "id": "a1a26a0b-b84f-4b1d-909c-496cb5e88385",
   "metadata": {},
   "outputs": [],
   "source": [
    "m = mSimple(db) # initialize using the database 'db' from above."
   ]
  },
  {
   "cell_type": "code",
   "execution_count": 16,
   "id": "a3745094-1735-44ea-b1d3-91a64671f2b7",
   "metadata": {},
   "outputs": [
    {
     "name": "stdout",
     "output_type": "stream",
     "text": [
      "Solution status 0: Optimization terminated successfully. (HiGHS Status 7: Optimal)\n"
     ]
    }
   ],
   "source": [
    "m()"
   ]
  }
 ],
 "metadata": {
  "kernelspec": {
   "display_name": "Python 3 (ipykernel)",
   "language": "python",
   "name": "python3"
  },
  "language_info": {
   "codemirror_mode": {
    "name": "ipython",
    "version": 3
   },
   "file_extension": ".py",
   "mimetype": "text/x-python",
   "name": "python",
   "nbconvert_exporter": "python",
   "pygments_lexer": "ipython3",
   "version": "3.9.7"
  }
 },
 "nbformat": 4,
 "nbformat_minor": 5
}
