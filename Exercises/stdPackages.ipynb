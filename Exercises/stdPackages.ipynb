{
 "cells": [
  {
   "cell_type": "code",
   "execution_count": 1,
   "id": "f52d4161-25f4-4223-9f5f-bb4a8b536e84",
   "metadata": {},
   "outputs": [],
   "source": [
    "import os \n",
    "from IPython.display import IFrame\n",
    "c = os.getcwd()\n",
    "os.chdir(os.path.dirname(c))\n",
    "%run stdPackages.ipynb\n",
    "d['figs'] = os.path.join(c, 'Figs')\n",
    "d['data'] = os.path.join(c, 'Data')\n",
    "d['curr'] = c\n",
    "%load_ext autoreload\n",
    "%autoreload 2"
   ]
  },
  {
   "cell_type": "markdown",
   "id": "0f2a7e03-a9ed-4a35-b63c-f278b9700fd5",
   "metadata": {},
   "source": [
    "*Default plotting settings:*"
   ]
  },
  {
   "cell_type": "code",
   "execution_count": 2,
   "id": "be090ced-b359-42c3-828f-c7ae57aa2c20",
   "metadata": {
    "tags": []
   },
   "outputs": [],
   "source": [
    "import matplotlib as mpl, matplotlib.pyplot as plt, seaborn\n",
    "from matplotlib import cm\n",
    "from matplotlib.ticker import LinearLocator\n",
    "%matplotlib inline\n",
    "matplotlibVersion = version('matplotlib').split('.')\n",
    "if (int(matplotlibVersion[1])>5) & (int(matplotlibVersion[0]) == 3):\n",
    "    plt.style.use('seaborn-v0_8-whitegrid')\n",
    "    mpl.style.use('seaborn-v0_8')\n",
    "else:\n",
    "    plt.style.use('seaborn-whitegrid')\n",
    "    mpl.style.use('seaborn')\n",
    "plt.rcParams['font.family'] = 'Palatino Linotype'\n",
    "prop_cycle = plt.rcParams[\"axes.prop_cycle\"]\n",
    "colors = prop_cycle.by_key()[\"color\"]\n",
    "long_colors = ['#1f78b4','#a6cee3','#b2df8a','#33a02c','#fb9a99','#e31a1c','#fdbf6f','#ff7f00','#cab2d6','#6a3d9a','#ffff99','#b15928']"
   ]
  },
  {
   "cell_type": "markdown",
   "id": "d9d9ebe4-7766-4be1-8485-d9af79438267",
   "metadata": {},
   "source": [
    "Settings for plots:"
   ]
  },
  {
   "cell_type": "code",
   "execution_count": null,
   "id": "91b0bd3e-0544-4b20-8f1e-db9386461bd4",
   "metadata": {},
   "outputs": [],
   "source": [
    "def largeFont():\n",
    "    SMALL_SIZE = 24\n",
    "    MEDIUM_SIZE = 28\n",
    "    BIGGER_SIZE = 32\n",
    "    plt.rc('font', size=SMALL_SIZE)          # controls default text sizes\n",
    "    plt.rc('axes', titlesize=BIGGER_SIZE)     # fontsize of the axes title\n",
    "    plt.rc('axes', labelsize=MEDIUM_SIZE)    # fontsize of the x and y labels\n",
    "    plt.rc('xtick', labelsize=SMALL_SIZE)    # fontsize of the tick labels\n",
    "    plt.rc('ytick', labelsize=SMALL_SIZE)    # fontsize of the tick labels\n",
    "    plt.rc('legend', fontsize=SMALL_SIZE)    # legend fontsize\n",
    "    plt.rc('figure', titlesize=BIGGER_SIZE)  # fontsize of the figure title\n",
    "def one_graph():\n",
    "    SMALL_SIZE = 19\n",
    "    MEDIUM_SIZE = 22\n",
    "    BIGGER_SIZE = 25\n",
    "    plt.rc('font', size=SMALL_SIZE)          # controls default text sizes\n",
    "    plt.rc('axes', titlesize=BIGGER_SIZE)     # fontsize of the axes title\n",
    "    plt.rc('axes', labelsize=MEDIUM_SIZE)    # fontsize of the x and y labels\n",
    "    plt.rc('xtick', labelsize=SMALL_SIZE)    # fontsize of the tick labels\n",
    "    plt.rc('ytick', labelsize=SMALL_SIZE)    # fontsize of the tick labels\n",
    "    plt.rc('legend', fontsize=SMALL_SIZE)    # legend fontsize\n",
    "    plt.rc('figure', titlesize=BIGGER_SIZE)  # fontsize of the figure title\n",
    "def mult_graphs():\n",
    "    SMALL_SIZE = 16\n",
    "    MEDIUM_SIZE = 19\n",
    "    BIGGER_SIZE = 22\n",
    "    plt.rc('font', size=SMALL_SIZE)          # controls default text sizes\n",
    "    plt.rc('axes', titlesize=BIGGER_SIZE)     # fontsize of the axes title\n",
    "    plt.rc('axes', labelsize=MEDIUM_SIZE)    # fontsize of the x and y labels\n",
    "    plt.rc('xtick', labelsize=SMALL_SIZE)    # fontsize of the tick labels\n",
    "    plt.rc('ytick', labelsize=SMALL_SIZE)    # fontsize of the tick labels\n",
    "    plt.rc('legend', fontsize=SMALL_SIZE)    # legend fontsize\n",
    "    plt.rc('figure', titlesize=BIGGER_SIZE)  # fontsize of the figure title    "
   ]
  }
 ],
 "metadata": {
  "kernelspec": {
   "display_name": "Python 3 (ipykernel)",
   "language": "python",
   "name": "python3"
  },
  "language_info": {
   "codemirror_mode": {
    "name": "ipython",
    "version": 3
   },
   "file_extension": ".py",
   "mimetype": "text/x-python",
   "name": "python",
   "nbconvert_exporter": "python",
   "pygments_lexer": "ipython3",
   "version": "3.11.3"
  }
 },
 "nbformat": 4,
 "nbformat_minor": 5
}
