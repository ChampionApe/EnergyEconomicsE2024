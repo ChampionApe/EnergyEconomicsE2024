{
 "cells": [
  {
   "cell_type": "markdown",
   "id": "a38b929f-77d0-441e-8a64-4d3495daca3e",
   "metadata": {},
   "source": [
    "*0. Preamble*"
   ]
  },
  {
   "cell_type": "code",
   "execution_count": 1,
   "id": "a5773dda-1e6b-44fa-89f8-b530b9769df6",
   "metadata": {
    "tags": []
   },
   "outputs": [],
   "source": [
    "%run stdPackages.ipynb\n",
    "slides = True # print for slides"
   ]
  },
  {
   "cell_type": "markdown",
   "id": "c2060ed1-6729-41e8-8241-a172d281b715",
   "metadata": {},
   "source": [
    "# Plots and simulations for L2"
   ]
  },
  {
   "cell_type": "markdown",
   "id": "5f9a8577-e482-4077-af6e-463a447bb79d",
   "metadata": {},
   "source": [
    "## 1. Fuel cost projections and emissions (KF21)"
   ]
  },
  {
   "cell_type": "markdown",
   "id": "333a8f11-3e0a-449c-83b4-ed79d00dff09",
   "metadata": {},
   "source": [
    "Load data:"
   ]
  },
  {
   "cell_type": "code",
   "execution_count": 2,
   "id": "cd6254ed-563f-472f-b56c-f55ef8cab708",
   "metadata": {
    "tags": []
   },
   "outputs": [],
   "source": [
    "db = pyDbs.read.dbFromWB(os.path.join(d['data'],'FuelProjections.xlsx'), {'variable2D': ['prices','emissionIntensity']})\n",
    "pyDbs.readSets(db) # read set definitions from other symbols declared in the database"
   ]
  },
  {
   "cell_type": "markdown",
   "id": "7e2306d6-1e0c-4603-9d81-5136f4a331b7",
   "metadata": {},
   "source": [
    "Group variables for the plots:"
   ]
  },
  {
   "cell_type": "code",
   "execution_count": 3,
   "id": "d9c53264-a4c7-492f-bba2-3dbc4df1182a",
   "metadata": {
    "tags": []
   },
   "outputs": [],
   "source": [
    "groups = {'Fossil': pd.Index(['Coal','Oil','Natural gas'],name='BFt'),\n",
    "          'Biomass': pd.Index(['Straw','Wood pellets','Wood chips','Wood waste'], name = 'BFt'),\n",
    "          'Other': pd.Index(['Waste','Uranium','Hydrogen','Biogas'], name = 'BFt')\n",
    "    }"
   ]
  },
  {
   "cell_type": "markdown",
   "id": "9003548b-ab08-448a-aba8-4e36754616e5",
   "metadata": {},
   "source": [
    "Small adjustment to data:"
   ]
  },
  {
   "cell_type": "code",
   "execution_count": 4,
   "id": "774eb2a6-06f6-44ce-ade5-981a3e25aca4",
   "metadata": {
    "tags": []
   },
   "outputs": [],
   "source": [
    "db['FuelPrice'].index = db['FuelPrice'].index.set_levels(db['t'].astype(int), level='t')\n",
    "db['FuelPrice'] = db['FuelPrice'].unstack('t').sort_values(by=2020, ascending=False).stack()"
   ]
  },
  {
   "cell_type": "markdown",
   "id": "434dc8c6-08ec-4565-bde2-ea62de92d1e4",
   "metadata": {},
   "source": [
    "Plot:"
   ]
  },
  {
   "cell_type": "code",
   "execution_count": 5,
   "id": "75cb7949-9057-4daa-9114-2d32691c190b",
   "metadata": {
    "tags": []
   },
   "outputs": [],
   "source": [
    "%%capture\n",
    "mult_graphs()\n",
    "fig, axes = plt.subplots(1, 3, figsize = (14,8));\n",
    "plt.subplots_adjust(hspace=0.35)\n",
    "for j in range(3):\n",
    "    ax = plt.subplot(1, 3, j+1)\n",
    "    g, ind = list(groups.keys())[j], list(groups.values())[j]\n",
    "    seaborn.lineplot(data=pyDbs.adj.rc_pd(db['FuelPrice'], ind).unstack('BFt').rename_axis(columns=None), ax = ax, linewidth = 2);\n",
    "    ax.set_ylim([0,30]);\n",
    "    ax.set_ylabel('€/GJ');\n",
    "    ax.set_xlabel('');\n",
    "    ax.set_title(g)\n",
    "fig.tight_layout()\n",
    "if slides:\n",
    "    fig.savefig(os.path.join(d['figs'],\"L3_FuelCosts_slides.pdf\"),facecolor='#FAFAFA',edgecolor='k')\n",
    "else:\n",
    "    fig.savefig(os.path.join(d['figs'],\"L3_FuelCosts.pdf\"),edgecolor='k')"
   ]
  },
  {
   "cell_type": "markdown",
   "id": "3ce8176d-3ac3-4d7a-ae19-814098def9a1",
   "metadata": {},
   "source": [
    "Emission intensity:"
   ]
  },
  {
   "cell_type": "code",
   "execution_count": 6,
   "id": "5360cd35-1e15-49e8-a109-17898dc1b4fd",
   "metadata": {
    "tags": []
   },
   "outputs": [],
   "source": [
    "%%capture \n",
    "mult_graphs()\n",
    "nplots = 2\n",
    "nrows = math.ceil(nplots/2)\n",
    "fig, axes = plt.subplots(nrows, min(nplots, 2), figsize = (14, (6*nrows)));\n",
    "ax = plt.subplot(nrows,2,1)\n",
    "e = 'CO2'\n",
    "db['EmissionIntensity'].xs(e)[db['EmissionIntensity'].xs(e)!=0].sort_values().plot.bar(ax=ax);\n",
    "ax.set_ylabel('kg/GJ');\n",
    "ax.set_title(e);\n",
    "ax = plt.subplot(nrows,2,2)\n",
    "e = 'SO2'\n",
    "db['EmissionIntensity'].xs(e)[db['EmissionIntensity'].xs(e)!=0].sort_values().plot.bar(ax=ax);\n",
    "ax.set_ylabel('kg/GJ');\n",
    "ax.set_title(e);\n",
    "fig.tight_layout();\n",
    "if slides:\n",
    "    fig.savefig(os.path.join(d['figs'],\"L3_emissionIntensity_slides.pdf\"),facecolor='#FAFAFA',edgecolor='k')\n",
    "else:\n",
    "    fig.savefig(os.path.join(d['figs'],\"L3_emissionIntensity.pdf\"),edgecolor='k')"
   ]
  },
  {
   "cell_type": "markdown",
   "id": "e99a27f1-046e-4f1b-8876-4b20945fcdff",
   "metadata": {},
   "source": [
    "## 2. mBasic"
   ]
  },
  {
   "cell_type": "markdown",
   "id": "2229edf5-013c-42ac-83ad-f16f09978a88",
   "metadata": {},
   "source": [
    "Load data:"
   ]
  },
  {
   "cell_type": "code",
   "execution_count": 7,
   "id": "5dcb38e8-bad2-45cf-aad0-dc3f4af13dba",
   "metadata": {
    "tags": []
   },
   "outputs": [],
   "source": [
    "kwargs = {'variables':  ['Fundamentals', 'Load','Generators_Other'],\n",
    "          'variable2D': ['Generators_FuelMix'],\n",
    "          'scalars': ['Scalars'],\n",
    "          'maps': ['Generators_Categories']}\n",
    "db = pyDbs.read.dbFromWB(os.path.join(d['data'], 'mBasic.xlsx'), kwargs)\n",
    "pyDbs.readSets(db)"
   ]
  },
  {
   "cell_type": "markdown",
   "id": "dba567fc-09fe-4898-a4f7-f6677de7ad7f",
   "metadata": {},
   "source": [
    "Set up model and solve:"
   ]
  },
  {
   "cell_type": "code",
   "execution_count": 8,
   "id": "d700b51b-9de0-4aac-95dc-6feea2846df7",
   "metadata": {},
   "outputs": [
    {
     "name": "stdout",
     "output_type": "stream",
     "text": [
      "Solution status 0: Optimization terminated successfully. (HiGHS Status 7: Optimal)\n"
     ]
    }
   ],
   "source": [
    "m = mBasic.mSimple(db)\n",
    "m() # go through standard steps"
   ]
  },
  {
   "cell_type": "markdown",
   "id": "3e2f523c-6eb4-4b6a-b622-29c0d4ad12cb",
   "metadata": {},
   "source": [
    "Drawing the merit-order curve (by hand) is very straightforward, but plotting it here is actually quite a cumbersome exercise. This shows one implementation:"
   ]
  },
  {
   "cell_type": "code",
   "execution_count": 9,
   "id": "b3ba1137-dcd7-4766-81e3-e6d0d57a0092",
   "metadata": {
    "tags": []
   },
   "outputs": [],
   "source": [
    "df = pd.concat([db['mc'].rename('mc'), db['GeneratingCapacity'].rename('q')], axis =1).sort_values(by='mc')\n",
    "df['q'] = df['q'].cumsum()\n",
    "df.loc['_0'] = [df['mc'].iloc[0], 0] \n",
    "df.loc['_E'] = [df['mc'].max()+4, df['q'][-2]+np.finfo(float).eps]\n",
    "df = df.sort_values(by=['mc','q'])\n",
    "df['aux'] = df.apply(lambda x, shift: np.roll(x, shift)+np.finfo(float).eps, shift=1)['q']\n",
    "df = pd.concat([df[['mc','q']].iloc[0:-1], df[['mc','aux']].iloc[1:].rename(columns={'aux':'q'})]).sort_values(by=['mc','q']).set_index('q')\n",
    "df.loc[0] = 0 # "
   ]
  },
  {
   "cell_type": "markdown",
   "id": "0957ddc0-87fd-475b-b328-f3bda85d5a3e",
   "metadata": {},
   "source": [
    "This draws up a somewhat fancy plot with annotations and such"
   ]
  },
  {
   "cell_type": "code",
   "execution_count": 10,
   "id": "e182e002-965d-48ea-97af-c2648e552e30",
   "metadata": {
    "tags": []
   },
   "outputs": [],
   "source": [
    "%%capture\n",
    "one_graph()\n",
    "if slides:\n",
    "    fig, ax = plt.subplots(1,1,figsize = (14,10))\n",
    "else:\n",
    "    fig, ax = plt.subplots(1,1,figsize = (14,8))    \n",
    "df.plot(linewidth=3, ax=ax, legend=False);\n",
    "ax.vlines(db['Load'].sum(), 0, math.ceil(df.max())+4,linewidth=3, color = colors[1]);\n",
    "ax.set_xlabel(r'$GJ$', labelpad = 5);\n",
    "ax.set_ylabel(r'$€/$GJ', labelpad = 5);\n",
    "ax.set_xlim([0, df.index.max()-1]);\n",
    "ax.set_ylim([0, math.ceil(df.max())]);\n",
    "plt.text(df.index[2]/2-3, df.iloc[2]+0.25, f'Wind');\n",
    "plt.text(df.index[2]/2-2, df.iloc[2]-1, f'$q_W$');\n",
    "plt.annotate(\"\",xy=(1, df.iloc[2]-0.5), xytext=(df.index[2]-1, df.iloc[2]-0.5), arrowprops=dict(width=1, color='k', headwidth=5, headlength=15));\n",
    "plt.annotate(\"\",xy=(df.index[2]-1, df.iloc[2]-0.5), xytext=(1, df.iloc[2]-0.5), arrowprops=dict(width=1, color='k', headwidth=5, headlength=15));\n",
    "\n",
    "plt.text((df.index[4]+df.index[2])/2-3, df.iloc[4]+0.25, f'Coal')\n",
    "plt.text((df.index[4]+df.index[2])/2-2, df.iloc[4]-1, f'$q_C$');\n",
    "plt.annotate(\"\",xy=(df.index[2]+1, df.iloc[4]-0.5), xytext=(df.index[4]-1,df.iloc[4]-0.5), arrowprops=dict(width=1, color='k', headwidth=5, headlength=15));\n",
    "plt.annotate(\"\",xy=(df.index[4]-1, df.iloc[4]-0.5), xytext=(df.index[2]+1, df.iloc[4]-0.5), arrowprops=dict(width=1, color='k', headwidth=5, headlength=15));\n",
    "\n",
    "plt.text((df.index[6]+df.index[4])/2-3, df.iloc[6]+0.25, f'Gas')\n",
    "plt.text((df.index[6]+df.index[4])/2-2, df.iloc[6]-1, f'$q_G$');\n",
    "plt.annotate(\"\",xy=(df.index[4]+1, df.iloc[6]-0.5), xytext=(df.index[6]-1,df.iloc[6]-0.5), arrowprops=dict(width=1, color='k', headwidth=5, headlength=15));\n",
    "plt.annotate(\"\",xy=(df.index[6]-1, df.iloc[6]-0.5), xytext=(df.index[4]+1, df.iloc[6]-0.5), arrowprops=dict(width=1, color='k', headwidth=5, headlength=15));\n",
    "\n",
    "plt.text((df.index[8]+df.index[6])/2-3, df.iloc[8]+0.25, f'Bio')\n",
    "plt.text((df.index[8]+df.index[6])/2-2, df.iloc[8]-1, f'$q_B$');\n",
    "plt.annotate(\"\",xy=(df.index[6]+1, df.iloc[8]-0.5), xytext=(df.index[8]-1,df.iloc[8]-0.5), arrowprops=dict(width=1, color='k', headwidth=5, headlength=15));\n",
    "plt.annotate(\"\",xy=(df.index[8]-1, df.iloc[8]-0.5), xytext=(df.index[6]+1, df.iloc[8]-0.5), arrowprops=dict(width=1, color='k', headwidth=5, headlength=15));\n",
    "\n",
    "\n",
    "fig.legend(['Generation', 'Load'],loc=9,ncol=2,frameon=True)\n",
    "fig.tight_layout();\n",
    "fig.subplots_adjust(top=0.9);\n",
    "if slides:\n",
    "    fig.savefig(os.path.join(d['figs'],\"L3_MeritOrder_slides.pdf\"),facecolor='#FAFAFA',edgecolor='k')\n",
    "else:\n",
    "    fig.savefig(os.path.join(d['figs'],\"L3_MeritOrder.pdf\"),edgecolor='k')"
   ]
  },
  {
   "cell_type": "markdown",
   "id": "d9712c32-c9dd-43c6-be37-fad33ddb4a92",
   "metadata": {},
   "source": [
    "### 2.1. Cap emissions"
   ]
  },
  {
   "cell_type": "markdown",
   "id": "a7a81fc3-38eb-4600-8359-4381bc042a5a",
   "metadata": {},
   "source": [
    "Define emissions cap model and solve:"
   ]
  },
  {
   "cell_type": "code",
   "execution_count": 11,
   "id": "b72a9ce0-e46c-41ff-9c13-96cfa4fc8b34",
   "metadata": {},
   "outputs": [
    {
     "name": "stdout",
     "output_type": "stream",
     "text": [
      "Solution status 0: Optimization terminated successfully. (HiGHS Status 7: Optimal)\n"
     ]
    }
   ],
   "source": [
    "m = mBasic.mEmissionCap(db)\n",
    "m()"
   ]
  },
  {
   "cell_type": "code",
   "execution_count": 12,
   "id": "5d161504-5567-4e12-a034-db58dd6ac31c",
   "metadata": {},
   "outputs": [],
   "source": [
    "baselineEmissions = m.db['Emissions'][0]"
   ]
  },
  {
   "cell_type": "markdown",
   "id": "1cd162ec-df9a-482d-97da-19bbab8411a8",
   "metadata": {},
   "source": [
    "System costs as a function of cap:"
   ]
  },
  {
   "cell_type": "code",
   "execution_count": 13,
   "id": "eec36cd2-19da-4560-9707-edec3bb33455",
   "metadata": {},
   "outputs": [],
   "source": [
    "loop = pd.Index(range(51), name = 'loop')\n",
    "v0, vT = baselineEmissions, 0\n",
    "capGrid = pyDbs.adjMultiIndex.addGrid(v0,vT,loop,'CO2Cap')\n",
    "extract = ['FuelConsumption','Emissions','Welfare','Generation']"
   ]
  },
  {
   "cell_type": "markdown",
   "id": "e5707dc1-3318-44ef-9130-4ec18d2a6adf",
   "metadata": {},
   "source": [
    "We run the experiment using the ```loopSolvExtract``` method:"
   ]
  },
  {
   "cell_type": "code",
   "execution_count": 14,
   "id": "8e7e0438-8210-4f01-b2dc-8743ef36aac9",
   "metadata": {
    "tags": []
   },
   "outputs": [],
   "source": [
    "solution = m.loopSolveExtract(loop,[capGrid],extract)"
   ]
  },
  {
   "cell_type": "markdown",
   "id": "669301c6-4327-46a9-b219-4e6a08b3e350",
   "metadata": {},
   "source": [
    "Add wind to fuel consumption:"
   ]
  },
  {
   "cell_type": "code",
   "execution_count": 15,
   "id": "ff3c91f0-1db6-4a1e-ab5d-92570e4e0083",
   "metadata": {
    "tags": []
   },
   "outputs": [],
   "source": [
    "solution['FuelConsumption'] = solution['FuelConsumption'].unstack('BFt').assign(Wind = solution['Generation'].xs('Wind turbine')).stack().reorder_levels(solution['FuelConsumption'].index.names)"
   ]
  },
  {
   "cell_type": "markdown",
   "id": "b6e3ca83-de98-4ca3-a526-156db1986493",
   "metadata": {},
   "source": [
    "*Plot system costs next to the fuel consumption split:*"
   ]
  },
  {
   "cell_type": "code",
   "execution_count": 16,
   "id": "f69c6458-4536-4c58-9060-40c9efde8b57",
   "metadata": {},
   "outputs": [],
   "source": [
    "SC = pd.Series(solution['Welfare'].values, index = capGrid.values)\n",
    "FC = pd.Series(solution['FuelConsumption'].values, index = solution['FuelConsumption'].index.set_levels(capGrid.values, level = 1))\n",
    "FC_df = FC.unstack('BFt').reindex(columns = ['Wind']+[k for k in FC.index.levels[0] if k != 'Wind'])"
   ]
  },
  {
   "cell_type": "markdown",
   "id": "af4329d2-d3da-48d5-bcd7-2cbb37d3c061",
   "metadata": {},
   "source": [
    "*PLot with fuel consumption:*"
   ]
  },
  {
   "cell_type": "code",
   "execution_count": 17,
   "id": "50fa14ec-491e-406d-a76d-a1c922c571dc",
   "metadata": {},
   "outputs": [],
   "source": [
    "%%capture\n",
    "mult_graphs()\n",
    "nplots = 2\n",
    "nrows = math.ceil(nplots/2)\n",
    "if slides:\n",
    "    fig, axes = plt.subplots(nrows, min(nplots, 2), figsize = (14, 8))\n",
    "else:\n",
    "    fig, axes = plt.subplots(nrows, min(nplots, 2), figsize = (14, (6*nrows)));\n",
    "plt.subplots_adjust(hspace=0.35)\n",
    "# Plot 1:\n",
    "ax = plt.subplot(nrows, min(nplots,2), 1)\n",
    "seaborn.lineplot(data = SC, linewidth = 3, ax = ax, legend=False);\n",
    "ax.set_xlim([0, baselineEmissions]);\n",
    "ax.set_xlabel(r'$\\overline{CO2}$', labelpad=10);\n",
    "ax.set_ylabel(r\"Welfare\", labelpad=10);\n",
    "\n",
    "# Plot 2: Zooming in\n",
    "ax = plt.subplot(nrows, min(nplots,2), 2)\n",
    "FC_df.plot.area(ax = ax, legend=False, linewidth=0);\n",
    "ax.set_xlim([0,baselineEmissions]);\n",
    "ax.set_xlabel(r'$\\overline{CO2}$', labelpad=10);\n",
    "ax.set_ylabel(r\"GJ fuel\",labelpad=10);\n",
    "handles, labels = ax.get_legend_handles_labels()\n",
    "leg = ax.legend(handles[::-1], labels[::-1], loc=7, bbox_to_anchor = (1.4,0.5))\n",
    "fig.tight_layout()\n",
    "if slides:\n",
    "    fig.savefig(os.path.join(d['figs'], \"L3_mBasicCap_slides.pdf\"), facecolor='#FAFAFA',edgecolor='k')\n",
    "else:\n",
    "    fig.savefig(os.path.join(d['figs'], \"L3_mBasicCap.pdf\"),edgecolor='k')"
   ]
  },
  {
   "cell_type": "markdown",
   "id": "e2af402d-8962-46da-9c1b-cdeb30e6e8ec",
   "metadata": {},
   "source": [
    "### 2.2. Compare with RES target"
   ]
  },
  {
   "cell_type": "markdown",
   "id": "283cc4ed-2f48-42d3-a25d-818a98b65f6b",
   "metadata": {},
   "source": [
    "Add variable 'RESCap' to database:"
   ]
  },
  {
   "cell_type": "code",
   "execution_count": 18,
   "id": "8971fd08-d7bc-4f4b-b6b2-7f9f4657a445",
   "metadata": {},
   "outputs": [],
   "source": [
    "db_RES = db.copy()\n",
    "db_RES['RESCap'] = 0"
   ]
  },
  {
   "cell_type": "markdown",
   "id": "4a80f49a-8e4f-440d-941e-0bb0afd8cb2f",
   "metadata": {},
   "source": [
    "Set up and solve model:"
   ]
  },
  {
   "cell_type": "code",
   "execution_count": 19,
   "id": "6a1a32fb-dd6d-40d4-b258-ecb81f6be677",
   "metadata": {},
   "outputs": [
    {
     "name": "stdout",
     "output_type": "stream",
     "text": [
      "Solution status 0: Optimization terminated successfully. (HiGHS Status 7: Optimal)\n"
     ]
    }
   ],
   "source": [
    "m_RES = mBasic.mRES(db_RES)\n",
    "m_RES()"
   ]
  },
  {
   "cell_type": "markdown",
   "id": "e170df66-181e-40d4-9a02-4b5235852b76",
   "metadata": {},
   "source": [
    "System costs as a function of RESCap:"
   ]
  },
  {
   "cell_type": "code",
   "execution_count": 20,
   "id": "b12ee73a-cbb6-462c-8e9f-131733c6daa6",
   "metadata": {},
   "outputs": [],
   "source": [
    "loop = pd.Index(range(51), name = 'loop')\n",
    "v0, vT = 0, 1\n",
    "capGrid = pyDbs.adjMultiIndex.addGrid(v0,vT,loop,'RESCap')\n",
    "extract = ['FuelConsumption','Emissions','Welfare','Generation']"
   ]
  },
  {
   "cell_type": "markdown",
   "id": "56b518d1-66a5-4b21-8146-2f45cd5067e0",
   "metadata": {},
   "source": [
    "We run the experiment using the ```loopSolvExtract``` method:"
   ]
  },
  {
   "cell_type": "code",
   "execution_count": 21,
   "id": "d225eb02-47e3-4281-ae70-27da00c6a2a1",
   "metadata": {
    "tags": []
   },
   "outputs": [],
   "source": [
    "solution_RES = m_RES.loopSolveExtract(loop,[capGrid],extract)"
   ]
  },
  {
   "cell_type": "markdown",
   "id": "74a2cb7d-9faf-4f67-8715-55e4fa2c2000",
   "metadata": {},
   "source": [
    "Add wind to fuel consumption:"
   ]
  },
  {
   "cell_type": "code",
   "execution_count": 22,
   "id": "c4196979-a659-4af3-8618-85b28ff1d975",
   "metadata": {
    "tags": []
   },
   "outputs": [],
   "source": [
    "solution_RES['FuelConsumption'] = solution_RES['FuelConsumption'].unstack('BFt').assign(Wind = solution_RES['Generation'].xs('Wind turbine')).stack().reorder_levels(solution_RES['FuelConsumption'].index.names)"
   ]
  },
  {
   "cell_type": "markdown",
   "id": "04c65ce2-b823-40df-89b3-a1c7fe38420a",
   "metadata": {},
   "source": [
    "Swap the grid of RESCap out with resulting emissions:"
   ]
  },
  {
   "cell_type": "code",
   "execution_count": 23,
   "id": "a356dd04-dcf7-4366-9a85-a624cf46b980",
   "metadata": {},
   "outputs": [],
   "source": [
    "capGrid = solution_RES['Emissions'].xs('CO2')"
   ]
  },
  {
   "cell_type": "markdown",
   "id": "796984bc-10b0-4111-85bb-4dd9dca1c32e",
   "metadata": {},
   "source": [
    "*Plot system costs next to the fuel consumption split; add system costs of emission cap scenario as well:*"
   ]
  },
  {
   "cell_type": "code",
   "execution_count": 24,
   "id": "68583c58-1ebc-4309-b444-e0c8552cad9b",
   "metadata": {},
   "outputs": [],
   "source": [
    "SC_RES = pd.Series(solution_RES['Welfare'].values, index = capGrid.values)\n",
    "FC_RES = pd.Series(solution_RES['FuelConsumption'].values, index = solution_RES['FuelConsumption'].index.set_levels(capGrid.values, level = 1,verify_integrity = False))\n",
    "FC_RES_df = FC_RES.unstack('BFt').reindex(columns = ['Wind']+[k for k in FC_RES.index.levels[0] if k != 'Wind'])"
   ]
  },
  {
   "cell_type": "markdown",
   "id": "9315b53e-a1e2-401b-b676-97f3213243b8",
   "metadata": {},
   "source": [
    "*PLot with fuel consumption:*"
   ]
  },
  {
   "cell_type": "code",
   "execution_count": 25,
   "id": "75dbac04-ee0e-4745-9be9-796569e5d321",
   "metadata": {},
   "outputs": [],
   "source": [
    "%%capture\n",
    "mult_graphs()\n",
    "nplots = 2\n",
    "nrows = math.ceil(nplots/2)\n",
    "if slides:\n",
    "    fig, axes = plt.subplots(nrows, min(nplots, 2), figsize = (14, 8));\n",
    "else:\n",
    "    fig, axes = plt.subplots(nrows, min(nplots, 2), figsize = (14, (6*nrows)));\n",
    "plt.subplots_adjust(hspace=0.35)\n",
    "# Plot 1:\n",
    "ax = plt.subplot(nrows, min(nplots,2), 1)\n",
    "SC.plot(ax=ax, linewidth=3, legend =False);\n",
    "SC_RES.plot(ax=ax,linewidth=3,legend=False);\n",
    "ax.set_xlim([0, baselineEmissions]);\n",
    "ax.set_xlabel(r'$\\overline{CO2}$', labelpad=10);\n",
    "ax.set_ylabel(r\"Welfare\", labelpad=10);\n",
    "ax.legend(['$\\overline{CO2}$', '$\\overline{RES}$']);\n",
    "\n",
    "# Plot 2: Zooming in\n",
    "ax = plt.subplot(nrows, min(nplots,2), 2)\n",
    "FC_RES_df.plot.area(ax = ax, legend=False, linewidth=0);\n",
    "ax.set_xlim([0,baselineEmissions]);\n",
    "ax.set_xlabel(r'$\\overline{CO2}$', labelpad=10);\n",
    "ax.set_ylabel(r\"GJ fuel\",labelpad=10);\n",
    "handles, labels = ax.get_legend_handles_labels()\n",
    "leg = ax.legend(handles[::-1], labels[::-1], loc=7, bbox_to_anchor = (1.4,0.5))\n",
    "for line in leg.get_lines():\n",
    "    line.set_linewidth(2)\n",
    "fig.tight_layout()\n",
    "if slides:\n",
    "    fig.savefig(os.path.join(d['figs'], \"L3_mBasicRES_slides.pdf\"), facecolor='#FAFAFA',edgecolor='k')\n",
    "else:\n",
    "    fig.savefig(os.path.join(d['figs'], \"L3_mBasicRES.pdf\"),edgecolor='k')"
   ]
  },
  {
   "cell_type": "markdown",
   "id": "6fd1914a-b461-47da-a655-4920d3e87169",
   "metadata": {},
   "source": [
    "## 3. mGFBasic"
   ]
  },
  {
   "cell_type": "markdown",
   "id": "a378fec4-50e4-4254-82cd-8258b0eec7b7",
   "metadata": {},
   "source": [
    "Load data:"
   ]
  },
  {
   "cell_type": "code",
   "execution_count": 26,
   "id": "184c91e7-1cb4-44fd-9617-84542f9e67b1",
   "metadata": {},
   "outputs": [],
   "source": [
    "kwargs = {'variables':  ['Fundamentals', 'Load','Generators_Other'],\n",
    "          'variable2D': ['Generators_FuelMix'],\n",
    "          'scalars': ['Scalars'],\n",
    "          'maps': ['Generators_Categories']}\n",
    "db = pyDbs.read.dbFromWB(os.path.join(d['data'], 'mGFBasic.xlsx'), kwargs)\n",
    "pyDbs.readSets(db)"
   ]
  },
  {
   "cell_type": "markdown",
   "id": "ee01c488-9a83-4014-a6a8-da9e8c381c9b",
   "metadata": {},
   "source": [
    "Run basic model:"
   ]
  },
  {
   "cell_type": "code",
   "execution_count": 27,
   "id": "05ee55f6-4c08-483d-8366-6c9cd79b7f55",
   "metadata": {},
   "outputs": [
    {
     "name": "stdout",
     "output_type": "stream",
     "text": [
      "Solution status 0: Optimization terminated successfully. (HiGHS Status 7: Optimal)\n"
     ]
    }
   ],
   "source": [
    "m = mGFBasic.mSimple(db)\n",
    "m() # go through standard steps"
   ]
  },
  {
   "cell_type": "markdown",
   "id": "a38d773b-c878-44bf-b19f-974b95832522",
   "metadata": {},
   "source": [
    "Set up cost structre in the three components, add a column for total costs in order to solve by this - and then drop the column again:"
   ]
  },
  {
   "cell_type": "code",
   "execution_count": 28,
   "id": "2ef4348a-2422-4a91-b9dd-a8e9fa5e7957",
   "metadata": {
    "tags": []
   },
   "outputs": [],
   "source": [
    "costStructure = pd.DataFrame({'MC': m.db['mc'], \n",
    "                              'FOM': m.db['FOM'], \n",
    "                              'INV': pyDbs.adjMultiIndex.applyMult(m.db['InvestCost_A'],m.db['id2tech']).droplevel('tech')}).assign(\n",
    "                Total = lambda x: x.sum(axis=1)).sort_values(by='Total')[['MC','FOM','INV']]"
   ]
  },
  {
   "cell_type": "markdown",
   "id": "452a363b-d002-4823-bb0d-0cd0e22916f9",
   "metadata": {},
   "source": [
    "Plot stacked bar plot:"
   ]
  },
  {
   "cell_type": "code",
   "execution_count": 29,
   "id": "b6ed0cc5-e1ac-479e-b223-99b6eb563741",
   "metadata": {
    "tags": []
   },
   "outputs": [],
   "source": [
    "%%capture\n",
    "one_graph()\n",
    "if slides:\n",
    "    fig, ax = plt.subplots(1,1,figsize = (14,8))\n",
    "else:\n",
    "    fig, ax = plt.subplots(1,1,figsize = (14,6))    \n",
    "costStructure.plot.bar(stacked=True, ax=ax);\n",
    "ax.set_xlabel('');\n",
    "ax.set_ylabel('€/GJ');\n",
    "fig.tight_layout();\n",
    "if slides:\n",
    "    fig.savefig(os.path.join(d['figs'],\"L3_costStructure_slides.pdf\"),facecolor='#FAFAFA',edgecolor='k')\n",
    "else:\n",
    "    fig.savefig(os.path.join(d['figs'],\"L3_costStructure.pdf\"),edgecolor='k')"
   ]
  },
  {
   "cell_type": "markdown",
   "id": "25311899-ec72-46cc-9d2f-11c35da9ec06",
   "metadata": {},
   "source": [
    "Now, vary the allowed total capacity for wind and report the total system costs + investment in technologies:"
   ]
  },
  {
   "cell_type": "code",
   "execution_count": 30,
   "id": "fb12c659-93fe-4159-8fae-3dead65b2f6a",
   "metadata": {},
   "outputs": [],
   "source": [
    "loop = pd.Index(range(51), name = 'loop')\n",
    "v0, vT = pd.Series([0], index = pd.Index(['Offshore wind'], name = 'tech')), pd.Series([db['Load'].sum()], index = pd.Index(['Offshore wind'], name = 'tech'))\n",
    "capGrid = pyDbs.adjMultiIndex.addGrid(v0,vT,loop,'TechCap')\n",
    "extract = ['GeneratingCapacity','Welfare']"
   ]
  },
  {
   "cell_type": "markdown",
   "id": "2af0b04f-488c-4433-8ecb-689afc715eef",
   "metadata": {},
   "source": [
    "We run the experiment using the ```loopSolvExtract``` method:"
   ]
  },
  {
   "cell_type": "code",
   "execution_count": 31,
   "id": "aa31f2d1-b49e-44db-a1ef-b8dfa999127b",
   "metadata": {
    "tags": []
   },
   "outputs": [],
   "source": [
    "solution = m.loopSolveExtract(loop,[capGrid],extract)"
   ]
  },
  {
   "cell_type": "markdown",
   "id": "60ebfa4b-69cb-4943-9c28-6b1bd99056d6",
   "metadata": {},
   "source": [
    "Replace range loop with value of capacities:"
   ]
  },
  {
   "cell_type": "code",
   "execution_count": 32,
   "id": "769d9522-9a61-496e-828e-73758934c5ce",
   "metadata": {
    "tags": []
   },
   "outputs": [],
   "source": [
    "[solution.__setitem__(k, pyDbs.adjMultiIndex.applyMult(v, pd.MultiIndex.from_frame(capGrid.droplevel('tech').reset_index())).droplevel('loop')) for k,v in solution.items()];"
   ]
  },
  {
   "cell_type": "markdown",
   "id": "981eb3e6-bac0-44cb-926b-80560e7ed8be",
   "metadata": {},
   "source": [
    "Plot"
   ]
  },
  {
   "cell_type": "code",
   "execution_count": 34,
   "id": "4c486001-7f86-4bd9-9612-405997c923dd",
   "metadata": {},
   "outputs": [],
   "source": [
    "%%capture\n",
    "mult_graphs()\n",
    "if slides:\n",
    "    fig, axes = plt.subplots(1, 2, figsize = (14, 8));\n",
    "else:\n",
    "    fig, axes = plt.subplots(1, 2, figsize = (14, 6));\n",
    "# Plot 1:\n",
    "ax = plt.subplot(1, 2, 1)\n",
    "solution['Welfare'].plot(ax=ax, linewidth=3);\n",
    "ax.set_ylabel(\"Welfare\", labelpad=10);\n",
    "ax.set_xlabel(\"Cap on wind\",labelpad=10);\n",
    "\n",
    "# Plot 2:\n",
    "ax = plt.subplot(1, 2, 2)\n",
    "solution['GeneratingCapacity'].unstack('id')[costStructure.index].plot.area(ax=ax, legend=False, linewidth=0);\n",
    "ax.set_ylabel(r\"$q_i$\",labelpad=10);\n",
    "ax.set_xlabel(\"Cap on wind\",labelpad=10);\n",
    "handles, labels = ax.get_legend_handles_labels()\n",
    "leg = ax.legend(handles[::-1], labels[::-1], loc=7, bbox_to_anchor = (1.4,0.5))\n",
    "for line in leg.get_lines():\n",
    "    line.set_linewidth(2)\n",
    "fig.tight_layout()\n",
    "plt.subplots_adjust(right=1)\n",
    "if slides:\n",
    "    fig.savefig(os.path.join(d['figs'], \"L3_capOnWind_slides.eps\"), facecolor='#FAFAFA',edgecolor='k', bbox_inches='tight')\n",
    "else:\n",
    "    fig.savefig(os.path.join(d['figs'], \"L3_capOnWind.pdf\"),edgecolor='k', bbox_inches='tight')"
   ]
  }
 ],
 "metadata": {
  "kernelspec": {
   "display_name": "Python 3 (ipykernel)",
   "language": "python",
   "name": "python3"
  },
  "language_info": {
   "codemirror_mode": {
    "name": "ipython",
    "version": 3
   },
   "file_extension": ".py",
   "mimetype": "text/x-python",
   "name": "python",
   "nbconvert_exporter": "python",
   "pygments_lexer": "ipython3",
   "version": "3.11.3"
  }
 },
 "nbformat": 4,
 "nbformat_minor": 5
}
